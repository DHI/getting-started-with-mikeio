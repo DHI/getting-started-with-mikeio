{
 "cells": [
  {
   "cell_type": "markdown",
   "metadata": {},
   "source": [
    "\n",
    "# NetCDF to dfs2\n",
    "\n",
    "## Weather forcing\n",
    "\n",
    "The first example uses data from ECMWF ERA5 obtained from [CDS](https://cds.climate.copernicus.eu/#!/home)\n",
    "\n",
    "A common format for multidimensional data is [NetCDF](https://www.unidata.ucar.edu/software/netcdf/).\n",
    "\n",
    "An excellent python package for working with NetCDF in Python is [Xarray](http://xarray.pydata.org/en/stable/)."
   ]
  },
  {
   "cell_type": "markdown",
   "metadata": {},
   "source": [
    "To work with NetCDF data first we need to install the `netcdf4` and `xarray` packages!  "
   ]
  },
  {
   "cell_type": "markdown",
   "metadata": {},
   "source": [
    "Opening a NetCDF file with Xarray returns an `xarray.Dataset`"
   ]
  },
  {
   "cell_type": "code",
   "execution_count": null,
   "metadata": {},
   "outputs": [],
   "source": [
    "import numpy as np\n",
    "import pandas as pd\n",
    "import xarray as xr\n",
    "import mikeio\n",
    "\n",
    "ds = xr.open_dataset(\"data/era5_small.nc\")\n",
    "ds"
   ]
  },
  {
   "cell_type": "markdown",
   "metadata": {},
   "source": [
    "One of the datam variables is the t2m (Air temperature at 2m above the ground) which we can access in two different ways:\n",
    "\n",
    "1. Using the string \"t2m\"\n",
    "2. Or as a property of the Dataset object `.t2m`"
   ]
  },
  {
   "cell_type": "code",
   "execution_count": null,
   "metadata": {},
   "outputs": [],
   "source": [
    "ds[\"t2m\"]"
   ]
  },
  {
   "cell_type": "code",
   "execution_count": null,
   "metadata": {},
   "outputs": [],
   "source": [
    "ds.t2m"
   ]
  },
  {
   "cell_type": "markdown",
   "metadata": {},
   "source": [
    "To select the first timestep, we can use the `xarray.Dataset.isel` method."
   ]
  },
  {
   "cell_type": "code",
   "execution_count": null,
   "metadata": {},
   "outputs": [],
   "source": [
    "ds0 = ds.isel(time=0)\n",
    "ds0"
   ]
  },
  {
   "cell_type": "markdown",
   "metadata": {},
   "source": [
    "The dataset from the first timestep is also a Dataset, except it no longer has a time dimension.\n",
    "\n",
    "To plot a map of the air temperature we can use select the `t2m` property and call the plot method."
   ]
  },
  {
   "cell_type": "code",
   "execution_count": null,
   "metadata": {},
   "outputs": [],
   "source": [
    "ds0.t2m.plot()"
   ]
  },
  {
   "cell_type": "markdown",
   "metadata": {},
   "source": [
    "## Pressure"
   ]
  },
  {
   "cell_type": "markdown",
   "metadata": {},
   "source": [
    "Atmospheric pressure comes in different flavors.\n",
    "\n",
    "`Surface pressure` (sp) is the pressure at ground level, i.e. following the terrain.\n",
    "\n",
    "In the following plot you can clearly see the decrease in surface pressure with altitude in areas with mountains.\n",
    "\n",
    "This is *NOT* the variable used by MIKE 21 FM HD."
   ]
  },
  {
   "cell_type": "code",
   "execution_count": null,
   "metadata": {},
   "outputs": [],
   "source": [
    "ds0.sp.plot()"
   ]
  },
  {
   "cell_type": "markdown",
   "metadata": {},
   "source": [
    "MIKE 21 FM HD expects the atmospheric pressure reduced to Mean Sea Level. (`msl`) \n",
    "\n",
    "In the following plot the pressure field has a much smaller range, since the variation with altitude have been removed."
   ]
  },
  {
   "cell_type": "code",
   "execution_count": null,
   "metadata": {},
   "outputs": [],
   "source": [
    "ds0.msl.plot()"
   ]
  },
  {
   "cell_type": "markdown",
   "metadata": {},
   "source": [
    "## Wind"
   ]
  },
  {
   "cell_type": "markdown",
   "metadata": {},
   "source": [
    "The wind velocity components U,V at 10m above the ground, are found in the two data variables, `u10` and `v10`"
   ]
  },
  {
   "cell_type": "code",
   "execution_count": null,
   "metadata": {},
   "outputs": [],
   "source": [
    "ds0.u10.long_name"
   ]
  },
  {
   "cell_type": "code",
   "execution_count": null,
   "metadata": {},
   "outputs": [],
   "source": [
    "ds0.v10.long_name"
   ]
  },
  {
   "cell_type": "markdown",
   "metadata": {},
   "source": [
    "## Convert to dfs2"
   ]
  },
  {
   "cell_type": "markdown",
   "metadata": {},
   "source": [
    "### Sub-region\n",
    "\n",
    "In this case the NetCDF file covers a much larger area, than is required for our modelling work, so first step is to create a spatial subset to match our Area of Interest.\n",
    "\n",
    "Since the latitude dimension is ordered in decreasing order in this dataset, the slice has to go from high to low."
   ]
  },
  {
   "cell_type": "code",
   "execution_count": null,
   "metadata": {},
   "outputs": [],
   "source": [
    "ds_aoi = ds.sel(longitude=slice(10,30), \n",
    "                latitude=slice(60,45)) # N -> S\n",
    "ds_aoi"
   ]
  },
  {
   "cell_type": "markdown",
   "metadata": {},
   "source": [
    "Make a plot to check that the area is the one we expect."
   ]
  },
  {
   "cell_type": "code",
   "execution_count": null,
   "metadata": {},
   "outputs": [],
   "source": [
    "ds_aoi.isel(time=0).u10.plot()"
   ]
  },
  {
   "cell_type": "markdown",
   "metadata": {},
   "source": [
    "### Time\n",
    "\n",
    "Now we are ready to convert this data to dfs2.\n",
    "\n",
    "First step is to create a time axis, which can be understood by MIKE IO."
   ]
  },
  {
   "cell_type": "code",
   "execution_count": null,
   "metadata": {},
   "outputs": [],
   "source": [
    "time = pd.DatetimeIndex(ds.time)\n",
    "time"
   ]
  },
  {
   "cell_type": "markdown",
   "metadata": {},
   "source": [
    "Then create the spatial axis"
   ]
  },
  {
   "cell_type": "code",
   "execution_count": null,
   "metadata": {},
   "outputs": [],
   "source": [
    "g = mikeio.Grid2D(x=ds_aoi.longitude, y=ds_aoi.latitude[::-1], projection=\"LONG/LAT\")\n",
    "g"
   ]
  },
  {
   "cell_type": "markdown",
   "metadata": {},
   "source": [
    "The next step is to collect the variables that we need, and at the same time do unit conversion where it is necessary. In this case for pressure and temperature."
   ]
  },
  {
   "cell_type": "code",
   "execution_count": null,
   "metadata": {},
   "outputs": [],
   "source": [
    "das = [\n",
    "    mikeio.DataArray(np.flip(ds_aoi.msl.values, axis=1) / 100.0, time=time, geometry=g, item=ItemInfo(\"MSLP\", EUMType.Pressure, EUMUnit.hectopascal)),\n",
    "    mikeio.DataArray(np.flip(ds_aoi.u10.values, axis=1), time=time, geometry=g, item=ItemInfo(\"U 10m\", EUMType.Wind_Velocity, EUMUnit.meter_per_sec)),\n",
    "    mikeio.DataArray(np.flip(ds_aoi.v10.values, axis=1), time=time, geometry=g, item=ItemInfo(\"V 10m\", EUMType.Wind_Velocity, EUMUnit.meter_per_sec)),\n",
    "    mikeio.DataArray(np.flip(ds_aoi.t2m.values, axis=1) - 273.15, time=time, geometry=g, item=ItemInfo(\"Temperature\", EUMType.Temperature, EUMUnit.degree_Celsius))\n",
    "]"
   ]
  },
  {
   "cell_type": "code",
   "execution_count": null,
   "metadata": {},
   "outputs": [],
   "source": [
    "my_ds = mikeio.Dataset(das)\n",
    "my_ds"
   ]
  },
  {
   "cell_type": "markdown",
   "metadata": {},
   "source": [
    "Let's plot to confirm that it looks alright"
   ]
  },
  {
   "cell_type": "code",
   "execution_count": null,
   "metadata": {},
   "outputs": [],
   "source": [
    "my_ds.U_10m.plot(cmap=\"coolwarm\",vmin=-8,vmax=8);"
   ]
  },
  {
   "cell_type": "markdown",
   "metadata": {},
   "source": [
    "The dimensions for at  DFS2 are expected to be (t, y, x), which matches the ones used by this dataset.\n",
    "\n",
    "This convention is recommended by the [CF convention](http://cfconventions.org/cf-conventions/cf-conventions.html#dimensions)"
   ]
  },
  {
   "cell_type": "code",
   "execution_count": null,
   "metadata": {},
   "outputs": [],
   "source": [
    "ds.Conventions"
   ]
  },
  {
   "cell_type": "code",
   "execution_count": null,
   "metadata": {},
   "outputs": [],
   "source": [
    "ds.u10.dims"
   ]
  },
  {
   "cell_type": "code",
   "execution_count": null,
   "metadata": {},
   "outputs": [],
   "source": [
    "my_ds.dims"
   ]
  },
  {
   "cell_type": "markdown",
   "metadata": {},
   "source": [
    "The final step is to write the dataset to a dfs2 file. The Dataset already contains all the information needed."
   ]
  },
  {
   "cell_type": "code",
   "execution_count": null,
   "metadata": {},
   "outputs": [],
   "source": [
    "my_ds.to_dfs(\"era5_aoi.dfs2\")"
   ]
  },
  {
   "cell_type": "markdown",
   "metadata": {},
   "source": [
    "\n",
    "Screenshot of U 10m from MIKE Zero\n",
    "\n",
    "![](images/era5_u10_dfs2.png)"
   ]
  },
  {
   "cell_type": "code",
   "execution_count": null,
   "metadata": {},
   "outputs": [],
   "source": []
  }
 ],
 "metadata": {
  "kernelspec": {
   "display_name": "Python 3 (ipykernel)",
   "language": "python",
   "name": "python3"
  },
  "language_info": {
   "codemirror_mode": {
    "name": "ipython",
    "version": 3
   },
   "file_extension": ".py",
   "mimetype": "text/x-python",
   "name": "python",
   "nbconvert_exporter": "python",
   "pygments_lexer": "ipython3",
   "version": "3.10.6"
  },
  "vscode": {
   "interpreter": {
    "hash": "7aec4f91c09090e98e6ae8203c38529831bb4a3ce54cd1b69639b53cb01a6aa9"
   }
  }
 },
 "nbformat": 4,
 "nbformat_minor": 4
}
