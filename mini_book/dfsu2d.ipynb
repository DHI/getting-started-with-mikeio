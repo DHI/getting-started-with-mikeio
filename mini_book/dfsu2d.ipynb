{
 "cells": [
  {
   "cell_type": "markdown",
   "metadata": {},
   "source": [
    "# Dfsu 2D\n",
    "\n",
    "2D horizontal. \n",
    "\n",
    "See [Dfsu in MIKE IO Documentation](https://dhi.github.io/mikeio/dfsu-mesh-overview.html)\n"
   ]
  },
  {
   "cell_type": "code",
   "execution_count": null,
   "metadata": {},
   "outputs": [],
   "source": [
    "import numpy as np\n",
    "import pandas as pd\n",
    "import matplotlib.pyplot as plt\n",
    "import mikeio"
   ]
  },
  {
   "cell_type": "markdown",
   "metadata": {},
   "source": [
    "## Basic properties"
   ]
  },
  {
   "cell_type": "markdown",
   "metadata": {},
   "source": [
    ":::{note}\n",
    "Example data can be found in the `mini_book/data` folder in this [zip-file](https://github.com/DHI/book-learn-mikeio-fmskill/archive/refs/heads/main.zip).\n",
    ":::"
   ]
  },
  {
   "cell_type": "code",
   "execution_count": null,
   "metadata": {},
   "outputs": [],
   "source": [
    "fn = \"data/oresundHD_run1.dfsu\"\n",
    "dfs = mikeio.open(fn)\n",
    "dfs"
   ]
  },
  {
   "cell_type": "code",
   "execution_count": null,
   "metadata": {},
   "outputs": [],
   "source": [
    "dfs.geometry"
   ]
  },
  {
   "cell_type": "code",
   "execution_count": null,
   "metadata": {},
   "outputs": [],
   "source": [
    "dfs.geometry.plot();"
   ]
  },
  {
   "cell_type": "code",
   "execution_count": null,
   "metadata": {},
   "outputs": [],
   "source": [
    "dfs.n_items"
   ]
  },
  {
   "cell_type": "code",
   "execution_count": null,
   "metadata": {},
   "outputs": [],
   "source": [
    "dfs.projection_string"
   ]
  },
  {
   "cell_type": "code",
   "execution_count": null,
   "metadata": {},
   "outputs": [],
   "source": [
    "dfs.timestep    # in seconds ..."
   ]
  },
  {
   "cell_type": "code",
   "execution_count": null,
   "metadata": {},
   "outputs": [],
   "source": [
    "ds = dfs.read(items=\"Surface elevation\")\n",
    "ds.shape"
   ]
  },
  {
   "cell_type": "code",
   "execution_count": null,
   "metadata": {},
   "outputs": [],
   "source": [
    "da = ds[\"Surface elevation\"]   # =ds[0] = ds.Surface_elevation\n",
    "da"
   ]
  },
  {
   "cell_type": "code",
   "execution_count": null,
   "metadata": {},
   "outputs": [],
   "source": [
    "da.plot();"
   ]
  },
  {
   "cell_type": "markdown",
   "metadata": {},
   "source": [
    "### Subset data"
   ]
  },
  {
   "cell_type": "code",
   "execution_count": null,
   "metadata": {},
   "outputs": [],
   "source": [
    "ze = dfs.element_coordinates[:,2]    # third column is depth\n",
    "ze<-20"
   ]
  },
  {
   "cell_type": "code",
   "execution_count": null,
   "metadata": {},
   "outputs": [],
   "source": [
    "elems = np.where(ze<-20)[0]\n",
    "ds_sub = dfs.read(items=0, time=-1, elements=elems)    # read only data where depth is more than 20m\n",
    "ds_sub"
   ]
  },
  {
   "cell_type": "code",
   "execution_count": null,
   "metadata": {},
   "outputs": [],
   "source": [
    "ax = ds_sub[0].plot()\n",
    "dfs.geometry.plot.mesh(ax=ax);"
   ]
  },
  {
   "cell_type": "markdown",
   "metadata": {},
   "source": [
    "Alternatively, we can use boolean masking directly on the DataArray, like this (see also [DataArray_Masking.ipynb](https://github.com/DHI/mikeio/blob/main/notebooks/DataArray%20-%20Masking.ipynb)):"
   ]
  },
  {
   "cell_type": "code",
   "execution_count": null,
   "metadata": {},
   "outputs": [],
   "source": [
    "dac = ds[0].isel(time=-1).copy()\n",
    "dac[ze>=-20] = np.nan\n",
    "dac.plot(show_mesh=True);"
   ]
  },
  {
   "cell_type": "markdown",
   "metadata": {},
   "source": [
    "## Create new dfsu from mesh"
   ]
  },
  {
   "cell_type": "code",
   "execution_count": null,
   "metadata": {},
   "outputs": [],
   "source": [
    "fn = \"data/two_elements.mesh\"\n",
    "dfs = mikeio.open(fn)"
   ]
  },
  {
   "cell_type": "code",
   "execution_count": null,
   "metadata": {},
   "outputs": [],
   "source": [
    "data = 36.5 * np.ones(dfs.n_elements)            # set all elements to 36.5\n",
    "time = pd.date_range(\"2020-1-1\", periods=1)      # arbitrary date \n",
    "item = mikeio.ItemInfo(mikeio.EUMType.Chezy_No)\n",
    "da = mikeio.DataArray(data, time=time, item=item, geometry=dfs.geometry)"
   ]
  },
  {
   "cell_type": "code",
   "execution_count": null,
   "metadata": {},
   "outputs": [],
   "source": [
    "da.to_dfs(\"chezy_map.dfsu\")"
   ]
  },
  {
   "cell_type": "code",
   "execution_count": null,
   "metadata": {},
   "outputs": [],
   "source": [
    "dfs = mikeio.open(\"chezy_map.dfsu\")\n",
    "dfs.read()[0][0,:]"
   ]
  },
  {
   "cell_type": "markdown",
   "metadata": {},
   "source": [
    "## Visualisation"
   ]
  },
  {
   "cell_type": "code",
   "execution_count": null,
   "metadata": {},
   "outputs": [],
   "source": [
    "dfs = mikeio.open(\"data/oresundHD_run1.dfsu\")\n",
    "dfs"
   ]
  },
  {
   "cell_type": "markdown",
   "metadata": {},
   "source": [
    "The Dfsu geometry plot the same as the mesh. (plot the elements and color them according to the bathymetry).\n",
    "\n",
    "The DataArray can be used to plot other data, such as surface elevation."
   ]
  },
  {
   "cell_type": "code",
   "execution_count": null,
   "metadata": {},
   "outputs": [],
   "source": [
    "dfs.geometry.plot();"
   ]
  },
  {
   "cell_type": "code",
   "execution_count": null,
   "metadata": {},
   "outputs": [],
   "source": [
    "ds = dfs.read()\n",
    "ds"
   ]
  },
  {
   "cell_type": "code",
   "execution_count": null,
   "metadata": {},
   "outputs": [],
   "source": [
    "wl_laststep = ds[\"Surface elevation\"].isel(time=-1)   # DataArray\n",
    "wl_laststep"
   ]
  },
  {
   "cell_type": "markdown",
   "metadata": {},
   "source": [
    "\n",
    "In order to customize the plot we can take return the axis and add additional things, like markers and a legend."
   ]
  },
  {
   "cell_type": "code",
   "execution_count": null,
   "metadata": {},
   "outputs": [],
   "source": [
    "ax = wl_laststep.plot(cmap=\"winter\", show_mesh=True, figsize=(12,12))\n",
    "ax.scatter(x=350000, y=6.15e6, marker='*', s=200, label=\"Location of bouy\")\n",
    "ax.legend();"
   ]
  },
  {
   "cell_type": "markdown",
   "metadata": {},
   "source": [
    "In order to create subplots, we can supply the axis as an argument to plot."
   ]
  },
  {
   "cell_type": "code",
   "execution_count": null,
   "metadata": {},
   "outputs": [],
   "source": [
    "fig, (ax1, ax2) = plt.subplots(ncols=2, figsize = (12,7))\n",
    "\n",
    "da = ds[\"Surface elevation\"].isel(time=-1)\n",
    "da.plot.contourf(ax=ax1, title=\"ax=ax1\")\n",
    "\n",
    "da = ds[\"V velocity\"].isel(time=-1)\n",
    "da.plot.contourf(ax=ax2, title=\"ax=ax2\", label=\"Northward velocity [m/s]\");"
   ]
  },
  {
   "cell_type": "markdown",
   "metadata": {},
   "source": [
    "## More examples\n",
    "\n",
    "See the [MIKE IO example notebooks](https://dhi.github.io/mikeio-examples/search.html) which has \"dfsu\" in the name.\n",
    "\n"
   ]
  },
  {
   "cell_type": "markdown",
   "metadata": {},
   "source": []
  }
 ],
 "metadata": {
  "kernelspec": {
   "display_name": "Python 3.10.5 ('base')",
   "language": "python",
   "name": "python3"
  },
  "language_info": {
   "codemirror_mode": {
    "name": "ipython",
    "version": 3
   },
   "file_extension": ".py",
   "mimetype": "text/x-python",
   "name": "python",
   "nbconvert_exporter": "python",
   "pygments_lexer": "ipython3",
   "version": "3.10.5"
  },
  "orig_nbformat": 4,
  "vscode": {
   "interpreter": {
    "hash": "7aec4f91c09090e98e6ae8203c38529831bb4a3ce54cd1b69639b53cb01a6aa9"
   }
  }
 },
 "nbformat": 4,
 "nbformat_minor": 2
}
