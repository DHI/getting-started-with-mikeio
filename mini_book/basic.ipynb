{
 "cells": [
  {
   "cell_type": "markdown",
   "metadata": {},
   "source": [
    "# Basic Python\n",
    "\n",
    "Python is a high level general purpose programming language. Python is easy to read, understand and learn. \n",
    "\n",
    "You can run python code in different ways:\n",
    "\n",
    "* Python interpreter: line-by-line in a shell (like an advanced calculator)\n",
    "* IPython intepreter: **I**nteractive Python shell (with syntax highlighting etc)\n",
    "* Script: run all your code in a txt-file \n",
    "* Jupyter notebook: interactive web-based environment for combining text, code and plots\n",
    "\n",
    "We will use Jupyter notebooks in this course."
   ]
  },
  {
   "cell_type": "markdown",
   "metadata": {},
   "source": [
    "## Jupyter\n",
    "\n",
    "A cell in jupyter is either \"code\" or \"markdown\". See [markdown cheat sheet](https://www.markdownguide.org/cheat-sheet/) for help on writing markdown text. \n",
    "\n",
    "You will be navigating Jupyter cells alot so it's important to learn a few [keyboard shortcuts](https://www.dataday.life/notes/jupyter-notebooks/cheat-sheet-jupyter-notebook-keyboard-shortcuts/): \n",
    "\n",
    "* 'Ctrl'+'Enter': run cell\n",
    "* 'Shift'+'Enter': run cell and jump to next\n",
    "\n",
    "You can exit \"edit mode\" (and enter \"command mode\") by pressing 'Esc', you can now press:\n",
    "\n",
    "* 'a': insert cell above\n",
    "* 'b': insert cell below\n",
    "* 'm': change cell to markdown\n",
    "* 'y': change cell to code\n",
    "* 'd'+'d': delete cell"
   ]
  },
  {
   "cell_type": "markdown",
   "metadata": {},
   "source": [
    "### Code completion and help\n",
    "\n",
    "Jupyter lab can help you complete Python code, if you press \"tab\". If you have your cursor on a function, you can get the function signature by pressing \"shift\"+\"tab\"."
   ]
  },
  {
   "cell_type": "code",
   "execution_count": null,
   "metadata": {},
   "outputs": [],
   "source": [
    "# You can get help by writting ? before or after a function/variable\n",
    "pwd?"
   ]
  },
  {
   "cell_type": "markdown",
   "metadata": {},
   "source": [
    "### Current working directory\n",
    "\n",
    "When reading (or writing) files from the local file system, it is important to know your current path. You you print the current path by the command pwd:"
   ]
  },
  {
   "cell_type": "code",
   "execution_count": null,
   "metadata": {},
   "outputs": [],
   "source": [
    "pwd"
   ]
  },
  {
   "cell_type": "markdown",
   "metadata": {},
   "source": [
    "We recommend that you start jupyter from the \"mini_book\" folder in this course as it will make the relative paths to the data files work. "
   ]
  },
  {
   "cell_type": "markdown",
   "metadata": {},
   "source": [
    "### Windows paths\n",
    "\n",
    "Backslash \\\\ is used to separate folders in Windows. In Python strings, backslash \\\\ is an escape character. You can write windows paths in Python the following ways:\n",
    "\n",
    "* use \"raw-string\" representation by pre-fixing the string with r, like this: r\"folder\\file.ext\"\n",
    "* use slash \"/\" (as on linux and http), like this: \"folder/file.ext\"\n",
    "* use double backslash, like this: \"folder\\\\ \\\\file.ext\"  \n",
    "\n",
    "We recommend using slash \"/\" where possible as it also works on linux."
   ]
  },
  {
   "cell_type": "markdown",
   "metadata": {},
   "source": [
    "## Variables"
   ]
  },
  {
   "cell_type": "code",
   "execution_count": null,
   "metadata": {},
   "outputs": [],
   "source": [
    "var1 = 2.2\n",
    "var1"
   ]
  },
  {
   "cell_type": "code",
   "execution_count": null,
   "metadata": {},
   "outputs": [],
   "source": [
    "var2 = var1"
   ]
  },
  {
   "cell_type": "code",
   "execution_count": null,
   "metadata": {},
   "outputs": [],
   "source": [
    "var2 = \"3.3\"    # now changed type\n",
    "var2"
   ]
  },
  {
   "cell_type": "code",
   "execution_count": null,
   "metadata": {},
   "outputs": [],
   "source": [
    "var1     # var1 stays the same, when we change var2 (numeric type)"
   ]
  },
  {
   "cell_type": "code",
   "execution_count": null,
   "metadata": {},
   "outputs": [],
   "source": [
    "type(var1)"
   ]
  },
  {
   "cell_type": "markdown",
   "metadata": {},
   "source": [
    "## Lists"
   ]
  },
  {
   "cell_type": "code",
   "execution_count": null,
   "metadata": {},
   "outputs": [],
   "source": [
    "# A list is created with [..,..]\n",
    "myvals = [1.0, 2.0, 1.5]\n",
    "myvals"
   ]
  },
  {
   "cell_type": "code",
   "execution_count": null,
   "metadata": {},
   "outputs": [],
   "source": [
    "myvals[0]"
   ]
  },
  {
   "cell_type": "code",
   "execution_count": null,
   "metadata": {},
   "outputs": [],
   "source": [
    "myvals2 = myvals     # this is *not* a copy!"
   ]
  },
  {
   "cell_type": "code",
   "execution_count": null,
   "metadata": {},
   "outputs": [],
   "source": [
    "myvals2[1] = 3.3"
   ]
  },
  {
   "cell_type": "code",
   "execution_count": null,
   "metadata": {},
   "outputs": [],
   "source": [
    "myvals     # myvals has also changed! (myvals and myvals2 reference the same object)"
   ]
  },
  {
   "cell_type": "code",
   "execution_count": null,
   "metadata": {},
   "outputs": [],
   "source": [
    "id(myvals) == id(myvals2)     "
   ]
  },
  {
   "cell_type": "code",
   "execution_count": null,
   "metadata": {},
   "outputs": [],
   "source": [
    "# lists can contain all sorts of different variables\n",
    "stuff = [5, 3.0, \"MIKE ZERO\", b'a', [1,2]]"
   ]
  },
  {
   "cell_type": "code",
   "execution_count": null,
   "metadata": {},
   "outputs": [],
   "source": [
    "type(stuff[0])"
   ]
  },
  {
   "cell_type": "markdown",
   "metadata": {},
   "source": [
    "## Tuple\n",
    "Tuples are similar to lists but immutable (once they are created they cannot be changed)."
   ]
  },
  {
   "cell_type": "code",
   "execution_count": null,
   "metadata": {},
   "outputs": [],
   "source": [
    "my_tuple = (34, 0.2, \"txt\")\n",
    "my_tuple"
   ]
  },
  {
   "cell_type": "code",
   "execution_count": null,
   "metadata": {},
   "outputs": [],
   "source": [
    "my_tuple[2]"
   ]
  },
  {
   "cell_type": "code",
   "execution_count": null,
   "metadata": {},
   "outputs": [],
   "source": [
    "my_tuple[2] = 'new_txt'   # this will fail"
   ]
  },
  {
   "cell_type": "markdown",
   "metadata": {},
   "source": [
    "## Dictionary"
   ]
  },
  {
   "cell_type": "code",
   "execution_count": null,
   "metadata": {},
   "outputs": [],
   "source": [
    "fruits = {'banana':4, 'apple':7}\n",
    "fruits"
   ]
  },
  {
   "cell_type": "code",
   "execution_count": null,
   "metadata": {},
   "outputs": [],
   "source": [
    "fruits['orange'] = 9\n",
    "fruits"
   ]
  },
  {
   "cell_type": "code",
   "execution_count": null,
   "metadata": {},
   "outputs": [],
   "source": [
    "fruits.keys()"
   ]
  },
  {
   "cell_type": "code",
   "execution_count": null,
   "metadata": {},
   "outputs": [],
   "source": [
    "fruits['banana']"
   ]
  },
  {
   "cell_type": "code",
   "execution_count": null,
   "metadata": {},
   "outputs": [],
   "source": [
    "fruits.values()"
   ]
  },
  {
   "cell_type": "code",
   "execution_count": null,
   "metadata": {},
   "outputs": [],
   "source": [
    "fruits.items()"
   ]
  },
  {
   "cell_type": "markdown",
   "metadata": {},
   "source": [
    "## Control structures\n",
    "\n",
    "Notice the colons and identation! \n",
    "\n",
    "* [Python conditions](https://www.w3schools.com/python/python_conditions.asp)\n",
    "* [Python for loop](https://www.w3schools.com/python/python_for_loops.asp)"
   ]
  },
  {
   "cell_type": "code",
   "execution_count": null,
   "metadata": {},
   "outputs": [],
   "source": [
    "i_am = 'ok'\n",
    "if i_am == 'ok':\n",
    "    print('You are ok')\n",
    "elif i_am == 'great':\n",
    "    print('You are great')\n",
    "else:\n",
    "    print(\"I don't know how you are!\")"
   ]
  },
  {
   "cell_type": "code",
   "execution_count": null,
   "metadata": {},
   "outputs": [],
   "source": [
    "for j in range(3):\n",
    "    print(j)"
   ]
  },
  {
   "cell_type": "code",
   "execution_count": null,
   "metadata": {},
   "outputs": [],
   "source": [
    "names = ['Carl','Chan','Clarice']\n",
    "for name in names:\n",
    "    print(f'Hi {name}!')"
   ]
  },
  {
   "cell_type": "code",
   "execution_count": null,
   "metadata": {},
   "outputs": [],
   "source": []
  }
 ],
 "metadata": {
  "interpreter": {
   "hash": "f4041ee05ab07c15354d6207e763f17a216c3f5ccf08906343c2b4fd3fa7a6fb"
  },
  "kernelspec": {
   "display_name": "Python 3 (ipykernel)",
   "language": "python",
   "name": "python3"
  },
  "language_info": {
   "codemirror_mode": {
    "name": "ipython",
    "version": 3
   },
   "file_extension": ".py",
   "mimetype": "text/x-python",
   "name": "python",
   "nbconvert_exporter": "python",
   "pygments_lexer": "ipython3",
   "version": "3.8.10"
  }
 },
 "nbformat": 4,
 "nbformat_minor": 4
}
