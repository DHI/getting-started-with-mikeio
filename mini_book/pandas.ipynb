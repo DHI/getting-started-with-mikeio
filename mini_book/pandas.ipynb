{
 "cells": [
  {
   "cell_type": "code",
   "execution_count": null,
   "source": [
    "from utils import sysinfo\n",
    "\n",
    "sysinfo()"
   ],
   "outputs": [],
   "metadata": {}
  },
  {
   "cell_type": "markdown",
   "source": [
    "# Pandas"
   ],
   "metadata": {}
  },
  {
   "cell_type": "code",
   "execution_count": 1,
   "source": [
    "import pandas as pd"
   ],
   "outputs": [],
   "metadata": {}
  },
  {
   "cell_type": "code",
   "execution_count": 2,
   "source": [
    "cities = {'name': [\"Copenhagen\", \"London\"],\n",
    "          'population': [1.5, 11.2],\n",
    "          'dist_to_coast': [0.0, 2.3]}"
   ],
   "outputs": [],
   "metadata": {}
  },
  {
   "cell_type": "code",
   "execution_count": 3,
   "source": [
    "df = pd.DataFrame(cities)\n",
    "df"
   ],
   "outputs": [
    {
     "output_type": "execute_result",
     "data": {
      "text/plain": [
       "         name  population  dist_to_coast\n",
       "0  Copenhagen         1.5            0.0\n",
       "1      London        11.2            2.3"
      ],
      "text/html": [
       "<div>\n",
       "<style scoped>\n",
       "    .dataframe tbody tr th:only-of-type {\n",
       "        vertical-align: middle;\n",
       "    }\n",
       "\n",
       "    .dataframe tbody tr th {\n",
       "        vertical-align: top;\n",
       "    }\n",
       "\n",
       "    .dataframe thead th {\n",
       "        text-align: right;\n",
       "    }\n",
       "</style>\n",
       "<table border=\"1\" class=\"dataframe\">\n",
       "  <thead>\n",
       "    <tr style=\"text-align: right;\">\n",
       "      <th></th>\n",
       "      <th>name</th>\n",
       "      <th>population</th>\n",
       "      <th>dist_to_coast</th>\n",
       "    </tr>\n",
       "  </thead>\n",
       "  <tbody>\n",
       "    <tr>\n",
       "      <th>0</th>\n",
       "      <td>Copenhagen</td>\n",
       "      <td>1.5</td>\n",
       "      <td>0.0</td>\n",
       "    </tr>\n",
       "    <tr>\n",
       "      <th>1</th>\n",
       "      <td>London</td>\n",
       "      <td>11.2</td>\n",
       "      <td>2.3</td>\n",
       "    </tr>\n",
       "  </tbody>\n",
       "</table>\n",
       "</div>"
      ]
     },
     "metadata": {},
     "execution_count": 3
    }
   ],
   "metadata": {}
  },
  {
   "cell_type": "code",
   "execution_count": 4,
   "source": [
    "df[df.name=='London']"
   ],
   "outputs": [
    {
     "output_type": "execute_result",
     "data": {
      "text/plain": [
       "     name  population  dist_to_coast\n",
       "1  London        11.2            2.3"
      ],
      "text/html": [
       "<div>\n",
       "<style scoped>\n",
       "    .dataframe tbody tr th:only-of-type {\n",
       "        vertical-align: middle;\n",
       "    }\n",
       "\n",
       "    .dataframe tbody tr th {\n",
       "        vertical-align: top;\n",
       "    }\n",
       "\n",
       "    .dataframe thead th {\n",
       "        text-align: right;\n",
       "    }\n",
       "</style>\n",
       "<table border=\"1\" class=\"dataframe\">\n",
       "  <thead>\n",
       "    <tr style=\"text-align: right;\">\n",
       "      <th></th>\n",
       "      <th>name</th>\n",
       "      <th>population</th>\n",
       "      <th>dist_to_coast</th>\n",
       "    </tr>\n",
       "  </thead>\n",
       "  <tbody>\n",
       "    <tr>\n",
       "      <th>1</th>\n",
       "      <td>London</td>\n",
       "      <td>11.2</td>\n",
       "      <td>2.3</td>\n",
       "    </tr>\n",
       "  </tbody>\n",
       "</table>\n",
       "</div>"
      ]
     },
     "metadata": {},
     "execution_count": 4
    }
   ],
   "metadata": {}
  },
  {
   "cell_type": "code",
   "execution_count": 5,
   "source": [
    "df.population.mean()"
   ],
   "outputs": [
    {
     "output_type": "execute_result",
     "data": {
      "text/plain": [
       "6.35"
      ]
     },
     "metadata": {},
     "execution_count": 5
    }
   ],
   "metadata": {}
  },
  {
   "cell_type": "markdown",
   "source": [
    "## Get row by number"
   ],
   "metadata": {}
  },
  {
   "cell_type": "code",
   "execution_count": 6,
   "source": [
    "df.iloc[0]"
   ],
   "outputs": [
    {
     "output_type": "execute_result",
     "data": {
      "text/plain": [
       "name             Copenhagen\n",
       "population              1.5\n",
       "dist_to_coast           0.0\n",
       "Name: 0, dtype: object"
      ]
     },
     "metadata": {},
     "execution_count": 6
    }
   ],
   "metadata": {}
  },
  {
   "cell_type": "code",
   "execution_count": 7,
   "source": [
    "df.iloc[1]"
   ],
   "outputs": [
    {
     "output_type": "execute_result",
     "data": {
      "text/plain": [
       "name             London\n",
       "population         11.2\n",
       "dist_to_coast       2.3\n",
       "Name: 1, dtype: object"
      ]
     },
     "metadata": {},
     "execution_count": 7
    }
   ],
   "metadata": {}
  },
  {
   "cell_type": "markdown",
   "source": [
    "## Get row by name (named index)"
   ],
   "metadata": {}
  },
  {
   "cell_type": "code",
   "execution_count": 8,
   "source": [
    "df = df.set_index('name')\n",
    "df"
   ],
   "outputs": [
    {
     "output_type": "execute_result",
     "data": {
      "text/plain": [
       "            population  dist_to_coast\n",
       "name                                 \n",
       "Copenhagen         1.5            0.0\n",
       "London            11.2            2.3"
      ],
      "text/html": [
       "<div>\n",
       "<style scoped>\n",
       "    .dataframe tbody tr th:only-of-type {\n",
       "        vertical-align: middle;\n",
       "    }\n",
       "\n",
       "    .dataframe tbody tr th {\n",
       "        vertical-align: top;\n",
       "    }\n",
       "\n",
       "    .dataframe thead th {\n",
       "        text-align: right;\n",
       "    }\n",
       "</style>\n",
       "<table border=\"1\" class=\"dataframe\">\n",
       "  <thead>\n",
       "    <tr style=\"text-align: right;\">\n",
       "      <th></th>\n",
       "      <th>population</th>\n",
       "      <th>dist_to_coast</th>\n",
       "    </tr>\n",
       "    <tr>\n",
       "      <th>name</th>\n",
       "      <th></th>\n",
       "      <th></th>\n",
       "    </tr>\n",
       "  </thead>\n",
       "  <tbody>\n",
       "    <tr>\n",
       "      <th>Copenhagen</th>\n",
       "      <td>1.5</td>\n",
       "      <td>0.0</td>\n",
       "    </tr>\n",
       "    <tr>\n",
       "      <th>London</th>\n",
       "      <td>11.2</td>\n",
       "      <td>2.3</td>\n",
       "    </tr>\n",
       "  </tbody>\n",
       "</table>\n",
       "</div>"
      ]
     },
     "metadata": {},
     "execution_count": 8
    }
   ],
   "metadata": {}
  },
  {
   "cell_type": "code",
   "execution_count": 9,
   "source": [
    "df.loc[\"London\"]"
   ],
   "outputs": [
    {
     "output_type": "execute_result",
     "data": {
      "text/plain": [
       "population       11.2\n",
       "dist_to_coast     2.3\n",
       "Name: London, dtype: float64"
      ]
     },
     "metadata": {},
     "execution_count": 9
    }
   ],
   "metadata": {}
  },
  {
   "cell_type": "code",
   "execution_count": 10,
   "source": [
    "df.index"
   ],
   "outputs": [
    {
     "output_type": "execute_result",
     "data": {
      "text/plain": [
       "Index(['Copenhagen', 'London'], dtype='object', name='name')"
      ]
     },
     "metadata": {},
     "execution_count": 10
    }
   ],
   "metadata": {}
  },
  {
   "cell_type": "code",
   "execution_count": 11,
   "source": [
    "df.columns"
   ],
   "outputs": [
    {
     "output_type": "execute_result",
     "data": {
      "text/plain": [
       "Index(['population', 'dist_to_coast'], dtype='object')"
      ]
     },
     "metadata": {},
     "execution_count": 11
    }
   ],
   "metadata": {}
  },
  {
   "cell_type": "markdown",
   "source": [
    "We can transpose the dataframe, (rows -> columns)"
   ],
   "metadata": {}
  },
  {
   "cell_type": "code",
   "execution_count": 12,
   "source": [
    "df.T"
   ],
   "outputs": [
    {
     "output_type": "execute_result",
     "data": {
      "text/plain": [
       "name           Copenhagen  London\n",
       "population            1.5    11.2\n",
       "dist_to_coast         0.0     2.3"
      ],
      "text/html": [
       "<div>\n",
       "<style scoped>\n",
       "    .dataframe tbody tr th:only-of-type {\n",
       "        vertical-align: middle;\n",
       "    }\n",
       "\n",
       "    .dataframe tbody tr th {\n",
       "        vertical-align: top;\n",
       "    }\n",
       "\n",
       "    .dataframe thead th {\n",
       "        text-align: right;\n",
       "    }\n",
       "</style>\n",
       "<table border=\"1\" class=\"dataframe\">\n",
       "  <thead>\n",
       "    <tr style=\"text-align: right;\">\n",
       "      <th>name</th>\n",
       "      <th>Copenhagen</th>\n",
       "      <th>London</th>\n",
       "    </tr>\n",
       "  </thead>\n",
       "  <tbody>\n",
       "    <tr>\n",
       "      <th>population</th>\n",
       "      <td>1.5</td>\n",
       "      <td>11.2</td>\n",
       "    </tr>\n",
       "    <tr>\n",
       "      <th>dist_to_coast</th>\n",
       "      <td>0.0</td>\n",
       "      <td>2.3</td>\n",
       "    </tr>\n",
       "  </tbody>\n",
       "</table>\n",
       "</div>"
      ]
     },
     "metadata": {},
     "execution_count": 12
    }
   ],
   "metadata": {}
  },
  {
   "cell_type": "code",
   "execution_count": null,
   "source": [],
   "outputs": [],
   "metadata": {}
  },
  {
   "cell_type": "code",
   "execution_count": 13,
   "source": [
    "df.loc[\"London\"].population"
   ],
   "outputs": [
    {
     "output_type": "execute_result",
     "data": {
      "text/plain": [
       "11.2"
      ]
     },
     "metadata": {},
     "execution_count": 13
    }
   ],
   "metadata": {}
  },
  {
   "cell_type": "markdown",
   "source": [
    "## Timeseries"
   ],
   "metadata": {}
  },
  {
   "cell_type": "code",
   "execution_count": 14,
   "source": [
    "df = pd.read_csv(\"data/oceandata.csv\", parse_dates=True, index_col='datetime')"
   ],
   "outputs": [],
   "metadata": {}
  },
  {
   "cell_type": "code",
   "execution_count": 15,
   "source": [
    "df.head()"
   ],
   "outputs": [
    {
     "output_type": "execute_result",
     "data": {
      "text/plain": [
       "                     waterlevel   current  temperature\n",
       "datetime                                              \n",
       "2015-02-18 12:30:00       -0.23  0.852451    10.852451\n",
       "2015-02-18 12:40:00       -0.25  0.902668    10.902668\n",
       "2015-02-18 12:50:00       -0.26  0.163363    10.163363\n",
       "2015-02-18 13:00:00       -0.27  0.668361    10.668361\n",
       "2015-02-18 13:10:00       -0.28  0.069319    10.069319"
      ],
      "text/html": [
       "<div>\n",
       "<style scoped>\n",
       "    .dataframe tbody tr th:only-of-type {\n",
       "        vertical-align: middle;\n",
       "    }\n",
       "\n",
       "    .dataframe tbody tr th {\n",
       "        vertical-align: top;\n",
       "    }\n",
       "\n",
       "    .dataframe thead th {\n",
       "        text-align: right;\n",
       "    }\n",
       "</style>\n",
       "<table border=\"1\" class=\"dataframe\">\n",
       "  <thead>\n",
       "    <tr style=\"text-align: right;\">\n",
       "      <th></th>\n",
       "      <th>waterlevel</th>\n",
       "      <th>current</th>\n",
       "      <th>temperature</th>\n",
       "    </tr>\n",
       "    <tr>\n",
       "      <th>datetime</th>\n",
       "      <th></th>\n",
       "      <th></th>\n",
       "      <th></th>\n",
       "    </tr>\n",
       "  </thead>\n",
       "  <tbody>\n",
       "    <tr>\n",
       "      <th>2015-02-18 12:30:00</th>\n",
       "      <td>-0.23</td>\n",
       "      <td>0.852451</td>\n",
       "      <td>10.852451</td>\n",
       "    </tr>\n",
       "    <tr>\n",
       "      <th>2015-02-18 12:40:00</th>\n",
       "      <td>-0.25</td>\n",
       "      <td>0.902668</td>\n",
       "      <td>10.902668</td>\n",
       "    </tr>\n",
       "    <tr>\n",
       "      <th>2015-02-18 12:50:00</th>\n",
       "      <td>-0.26</td>\n",
       "      <td>0.163363</td>\n",
       "      <td>10.163363</td>\n",
       "    </tr>\n",
       "    <tr>\n",
       "      <th>2015-02-18 13:00:00</th>\n",
       "      <td>-0.27</td>\n",
       "      <td>0.668361</td>\n",
       "      <td>10.668361</td>\n",
       "    </tr>\n",
       "    <tr>\n",
       "      <th>2015-02-18 13:10:00</th>\n",
       "      <td>-0.28</td>\n",
       "      <td>0.069319</td>\n",
       "      <td>10.069319</td>\n",
       "    </tr>\n",
       "  </tbody>\n",
       "</table>\n",
       "</div>"
      ]
     },
     "metadata": {},
     "execution_count": 15
    }
   ],
   "metadata": {}
  },
  {
   "cell_type": "code",
   "execution_count": 16,
   "source": [
    "type(df)"
   ],
   "outputs": [
    {
     "output_type": "execute_result",
     "data": {
      "text/plain": [
       "pandas.core.frame.DataFrame"
      ]
     },
     "metadata": {},
     "execution_count": 16
    }
   ],
   "metadata": {}
  },
  {
   "cell_type": "code",
   "execution_count": 17,
   "source": [
    "type(df.waterlevel)"
   ],
   "outputs": [
    {
     "output_type": "execute_result",
     "data": {
      "text/plain": [
       "pandas.core.series.Series"
      ]
     },
     "metadata": {},
     "execution_count": 17
    }
   ],
   "metadata": {}
  },
  {
   "cell_type": "code",
   "execution_count": 18,
   "source": [
    "df.plot()"
   ],
   "outputs": [
    {
     "output_type": "execute_result",
     "data": {
      "text/plain": [
       "<AxesSubplot:xlabel='datetime'>"
      ]
     },
     "metadata": {},
     "execution_count": 18
    },
    {
     "output_type": "display_data",
     "data": {
      "text/plain": [
       "<Figure size 432x288 with 1 Axes>"
      ],
      "image/png": "[encoded data removed]"
     },
     "metadata": {
      "needs_background": "light"
     }
    }
   ],
   "metadata": {}
  },
  {
   "cell_type": "code",
   "execution_count": 19,
   "source": [
    "df.waterlevel.plot()"
   ],
   "outputs": [
    {
     "output_type": "execute_result",
     "data": {
      "text/plain": [
       "<AxesSubplot:xlabel='datetime'>"
      ]
     },
     "metadata": {},
     "execution_count": 19
    },
    {
     "output_type": "display_data",
     "data": {
      "text/plain": [
       "<Figure size 432x288 with 1 Axes>"
      ],
      "image/png": "[encoded data removed]"
     },
     "metadata": {
      "needs_background": "light"
     }
    }
   ],
   "metadata": {}
  },
  {
   "cell_type": "code",
   "execution_count": 20,
   "source": [
    "df.index"
   ],
   "outputs": [
    {
     "output_type": "execute_result",
     "data": {
      "text/plain": [
       "DatetimeIndex(['2015-02-18 12:30:00', '2015-02-18 12:40:00',\n",
       "               '2015-02-18 12:50:00', '2015-02-18 13:00:00',\n",
       "               '2015-02-18 13:10:00', '2015-02-18 13:20:00',\n",
       "               '2015-02-18 13:30:00', '2015-02-18 13:40:00',\n",
       "               '2015-02-18 13:50:00', '2015-02-18 14:00:00',\n",
       "               ...\n",
       "               '2015-02-19 11:40:00', '2015-02-19 11:50:00',\n",
       "               '2015-02-19 12:00:00', '2015-02-19 12:10:00',\n",
       "               '2015-02-19 12:20:00', '2015-02-19 12:30:00',\n",
       "               '2015-02-19 12:40:00', '2015-02-19 12:50:00',\n",
       "               '2015-02-19 13:00:00', '2015-02-19 13:10:00'],\n",
       "              dtype='datetime64[ns]', name='datetime', length=144, freq=None)"
      ]
     },
     "metadata": {},
     "execution_count": 20
    }
   ],
   "metadata": {}
  },
  {
   "cell_type": "code",
   "execution_count": 21,
   "source": [
    "df.describe()"
   ],
   "outputs": [
    {
     "output_type": "execute_result",
     "data": {
      "text/plain": [
       "       waterlevel     current  temperature\n",
       "count  139.000000  144.000000   144.000000\n",
       "mean    -0.098129    0.530844    10.530844\n",
       "std      0.144847    0.278987     0.278987\n",
       "min     -0.340000    0.012785    10.012785\n",
       "25%     -0.235000    0.295251    10.295251\n",
       "50%     -0.080000    0.507880    10.507880\n",
       "75%      0.020000    0.786672    10.786672\n",
       "max      0.150000    0.993855    10.993855"
      ],
      "text/html": [
       "<div>\n",
       "<style scoped>\n",
       "    .dataframe tbody tr th:only-of-type {\n",
       "        vertical-align: middle;\n",
       "    }\n",
       "\n",
       "    .dataframe tbody tr th {\n",
       "        vertical-align: top;\n",
       "    }\n",
       "\n",
       "    .dataframe thead th {\n",
       "        text-align: right;\n",
       "    }\n",
       "</style>\n",
       "<table border=\"1\" class=\"dataframe\">\n",
       "  <thead>\n",
       "    <tr style=\"text-align: right;\">\n",
       "      <th></th>\n",
       "      <th>waterlevel</th>\n",
       "      <th>current</th>\n",
       "      <th>temperature</th>\n",
       "    </tr>\n",
       "  </thead>\n",
       "  <tbody>\n",
       "    <tr>\n",
       "      <th>count</th>\n",
       "      <td>139.000000</td>\n",
       "      <td>144.000000</td>\n",
       "      <td>144.000000</td>\n",
       "    </tr>\n",
       "    <tr>\n",
       "      <th>mean</th>\n",
       "      <td>-0.098129</td>\n",
       "      <td>0.530844</td>\n",
       "      <td>10.530844</td>\n",
       "    </tr>\n",
       "    <tr>\n",
       "      <th>std</th>\n",
       "      <td>0.144847</td>\n",
       "      <td>0.278987</td>\n",
       "      <td>0.278987</td>\n",
       "    </tr>\n",
       "    <tr>\n",
       "      <th>min</th>\n",
       "      <td>-0.340000</td>\n",
       "      <td>0.012785</td>\n",
       "      <td>10.012785</td>\n",
       "    </tr>\n",
       "    <tr>\n",
       "      <th>25%</th>\n",
       "      <td>-0.235000</td>\n",
       "      <td>0.295251</td>\n",
       "      <td>10.295251</td>\n",
       "    </tr>\n",
       "    <tr>\n",
       "      <th>50%</th>\n",
       "      <td>-0.080000</td>\n",
       "      <td>0.507880</td>\n",
       "      <td>10.507880</td>\n",
       "    </tr>\n",
       "    <tr>\n",
       "      <th>75%</th>\n",
       "      <td>0.020000</td>\n",
       "      <td>0.786672</td>\n",
       "      <td>10.786672</td>\n",
       "    </tr>\n",
       "    <tr>\n",
       "      <th>max</th>\n",
       "      <td>0.150000</td>\n",
       "      <td>0.993855</td>\n",
       "      <td>10.993855</td>\n",
       "    </tr>\n",
       "  </tbody>\n",
       "</table>\n",
       "</div>"
      ]
     },
     "metadata": {},
     "execution_count": 21
    }
   ],
   "metadata": {}
  },
  {
   "cell_type": "code",
   "execution_count": 22,
   "source": [
    "df.loc['2015-02-18'].plot()"
   ],
   "outputs": [
    {
     "output_type": "execute_result",
     "data": {
      "text/plain": [
       "<AxesSubplot:xlabel='datetime'>"
      ]
     },
     "metadata": {},
     "execution_count": 22
    },
    {
     "output_type": "display_data",
     "data": {
      "text/plain": [
       "<Figure size 432x288 with 1 Axes>"
      ],
      "image/png": "[encoded data removed]"
     },
     "metadata": {
      "needs_background": "light"
     }
    }
   ],
   "metadata": {}
  },
  {
   "cell_type": "code",
   "execution_count": 23,
   "source": [
    "df.loc['2015-02-18'].interpolate().plot()"
   ],
   "outputs": [
    {
     "output_type": "execute_result",
     "data": {
      "text/plain": [
       "<AxesSubplot:xlabel='datetime'>"
      ]
     },
     "metadata": {},
     "execution_count": 23
    },
    {
     "output_type": "display_data",
     "data": {
      "text/plain": [
       "<Figure size 432x288 with 1 Axes>"
      ],
      "image/png": "[encoded data removed]"
     },
     "metadata": {
      "needs_background": "light"
     }
    }
   ],
   "metadata": {}
  },
  {
   "cell_type": "code",
   "execution_count": 24,
   "source": [
    "df.loc['2015-02-18 14:00':'2015-02-18 15:20']"
   ],
   "outputs": [
    {
     "output_type": "execute_result",
     "data": {
      "text/plain": [
       "                     waterlevel   current  temperature\n",
       "datetime                                              \n",
       "2015-02-18 14:00:00       -0.34  0.788007    10.788007\n",
       "2015-02-18 14:10:00         NaN  0.030756    10.030756\n",
       "2015-02-18 14:20:00         NaN  0.293056    10.293056\n",
       "2015-02-18 14:30:00         NaN  0.259692    10.259692\n",
       "2015-02-18 14:40:00         NaN  0.471166    10.471166\n",
       "2015-02-18 14:50:00         NaN  0.822787    10.822787\n",
       "2015-02-18 15:20:00       -0.31  0.262204    10.262204"
      ],
      "text/html": [
       "<div>\n",
       "<style scoped>\n",
       "    .dataframe tbody tr th:only-of-type {\n",
       "        vertical-align: middle;\n",
       "    }\n",
       "\n",
       "    .dataframe tbody tr th {\n",
       "        vertical-align: top;\n",
       "    }\n",
       "\n",
       "    .dataframe thead th {\n",
       "        text-align: right;\n",
       "    }\n",
       "</style>\n",
       "<table border=\"1\" class=\"dataframe\">\n",
       "  <thead>\n",
       "    <tr style=\"text-align: right;\">\n",
       "      <th></th>\n",
       "      <th>waterlevel</th>\n",
       "      <th>current</th>\n",
       "      <th>temperature</th>\n",
       "    </tr>\n",
       "    <tr>\n",
       "      <th>datetime</th>\n",
       "      <th></th>\n",
       "      <th></th>\n",
       "      <th></th>\n",
       "    </tr>\n",
       "  </thead>\n",
       "  <tbody>\n",
       "    <tr>\n",
       "      <th>2015-02-18 14:00:00</th>\n",
       "      <td>-0.34</td>\n",
       "      <td>0.788007</td>\n",
       "      <td>10.788007</td>\n",
       "    </tr>\n",
       "    <tr>\n",
       "      <th>2015-02-18 14:10:00</th>\n",
       "      <td>NaN</td>\n",
       "      <td>0.030756</td>\n",
       "      <td>10.030756</td>\n",
       "    </tr>\n",
       "    <tr>\n",
       "      <th>2015-02-18 14:20:00</th>\n",
       "      <td>NaN</td>\n",
       "      <td>0.293056</td>\n",
       "      <td>10.293056</td>\n",
       "    </tr>\n",
       "    <tr>\n",
       "      <th>2015-02-18 14:30:00</th>\n",
       "      <td>NaN</td>\n",
       "      <td>0.259692</td>\n",
       "      <td>10.259692</td>\n",
       "    </tr>\n",
       "    <tr>\n",
       "      <th>2015-02-18 14:40:00</th>\n",
       "      <td>NaN</td>\n",
       "      <td>0.471166</td>\n",
       "      <td>10.471166</td>\n",
       "    </tr>\n",
       "    <tr>\n",
       "      <th>2015-02-18 14:50:00</th>\n",
       "      <td>NaN</td>\n",
       "      <td>0.822787</td>\n",
       "      <td>10.822787</td>\n",
       "    </tr>\n",
       "    <tr>\n",
       "      <th>2015-02-18 15:20:00</th>\n",
       "      <td>-0.31</td>\n",
       "      <td>0.262204</td>\n",
       "      <td>10.262204</td>\n",
       "    </tr>\n",
       "  </tbody>\n",
       "</table>\n",
       "</div>"
      ]
     },
     "metadata": {},
     "execution_count": 24
    }
   ],
   "metadata": {}
  },
  {
   "cell_type": "code",
   "execution_count": 25,
   "source": [
    "df_interp = df.interpolate()"
   ],
   "outputs": [],
   "metadata": {}
  },
  {
   "cell_type": "code",
   "execution_count": 26,
   "source": [
    "df_interp.loc['2015-02-18 14:00':'2015-02-18 15:20']"
   ],
   "outputs": [
    {
     "output_type": "execute_result",
     "data": {
      "text/plain": [
       "                     waterlevel   current  temperature\n",
       "datetime                                              \n",
       "2015-02-18 14:00:00      -0.340  0.788007    10.788007\n",
       "2015-02-18 14:10:00      -0.335  0.030756    10.030756\n",
       "2015-02-18 14:20:00      -0.330  0.293056    10.293056\n",
       "2015-02-18 14:30:00      -0.325  0.259692    10.259692\n",
       "2015-02-18 14:40:00      -0.320  0.471166    10.471166\n",
       "2015-02-18 14:50:00      -0.315  0.822787    10.822787\n",
       "2015-02-18 15:20:00      -0.310  0.262204    10.262204"
      ],
      "text/html": [
       "<div>\n",
       "<style scoped>\n",
       "    .dataframe tbody tr th:only-of-type {\n",
       "        vertical-align: middle;\n",
       "    }\n",
       "\n",
       "    .dataframe tbody tr th {\n",
       "        vertical-align: top;\n",
       "    }\n",
       "\n",
       "    .dataframe thead th {\n",
       "        text-align: right;\n",
       "    }\n",
       "</style>\n",
       "<table border=\"1\" class=\"dataframe\">\n",
       "  <thead>\n",
       "    <tr style=\"text-align: right;\">\n",
       "      <th></th>\n",
       "      <th>waterlevel</th>\n",
       "      <th>current</th>\n",
       "      <th>temperature</th>\n",
       "    </tr>\n",
       "    <tr>\n",
       "      <th>datetime</th>\n",
       "      <th></th>\n",
       "      <th></th>\n",
       "      <th></th>\n",
       "    </tr>\n",
       "  </thead>\n",
       "  <tbody>\n",
       "    <tr>\n",
       "      <th>2015-02-18 14:00:00</th>\n",
       "      <td>-0.340</td>\n",
       "      <td>0.788007</td>\n",
       "      <td>10.788007</td>\n",
       "    </tr>\n",
       "    <tr>\n",
       "      <th>2015-02-18 14:10:00</th>\n",
       "      <td>-0.335</td>\n",
       "      <td>0.030756</td>\n",
       "      <td>10.030756</td>\n",
       "    </tr>\n",
       "    <tr>\n",
       "      <th>2015-02-18 14:20:00</th>\n",
       "      <td>-0.330</td>\n",
       "      <td>0.293056</td>\n",
       "      <td>10.293056</td>\n",
       "    </tr>\n",
       "    <tr>\n",
       "      <th>2015-02-18 14:30:00</th>\n",
       "      <td>-0.325</td>\n",
       "      <td>0.259692</td>\n",
       "      <td>10.259692</td>\n",
       "    </tr>\n",
       "    <tr>\n",
       "      <th>2015-02-18 14:40:00</th>\n",
       "      <td>-0.320</td>\n",
       "      <td>0.471166</td>\n",
       "      <td>10.471166</td>\n",
       "    </tr>\n",
       "    <tr>\n",
       "      <th>2015-02-18 14:50:00</th>\n",
       "      <td>-0.315</td>\n",
       "      <td>0.822787</td>\n",
       "      <td>10.822787</td>\n",
       "    </tr>\n",
       "    <tr>\n",
       "      <th>2015-02-18 15:20:00</th>\n",
       "      <td>-0.310</td>\n",
       "      <td>0.262204</td>\n",
       "      <td>10.262204</td>\n",
       "    </tr>\n",
       "  </tbody>\n",
       "</table>\n",
       "</div>"
      ]
     },
     "metadata": {},
     "execution_count": 26
    }
   ],
   "metadata": {}
  },
  {
   "cell_type": "code",
   "execution_count": null,
   "source": [],
   "outputs": [],
   "metadata": {}
  },
  {
   "cell_type": "markdown",
   "source": [
    "## Resampling\n",
    "\n",
    "Resampled data uses timestamp from either the start or the end of the interval, and thus introduces a phase shift."
   ],
   "metadata": {}
  },
  {
   "cell_type": "code",
   "execution_count": 27,
   "source": [
    "# TODO correct phase shift"
   ],
   "outputs": [],
   "metadata": {}
  },
  {
   "cell_type": "code",
   "execution_count": 28,
   "source": [
    "df.resample('H')"
   ],
   "outputs": [
    {
     "output_type": "execute_result",
     "data": {
      "text/plain": [
       "<pandas.core.resample.DatetimeIndexResampler object at 0x00000258026CB9D0>"
      ]
     },
     "metadata": {},
     "execution_count": 28
    }
   ],
   "metadata": {}
  },
  {
   "cell_type": "markdown",
   "source": [
    "Resampling requires an aggregation function, e.g., sum, mean, median,..."
   ],
   "metadata": {}
  },
  {
   "cell_type": "code",
   "execution_count": 29,
   "source": [
    "df.resample('D').sum().head()"
   ],
   "outputs": [
    {
     "output_type": "execute_result",
     "data": {
      "text/plain": [
       "            waterlevel    current  temperature\n",
       "datetime                                      \n",
       "2015-02-18       -8.36  34.500139   704.500139\n",
       "2015-02-19       -5.28  41.941404   811.941404"
      ],
      "text/html": [
       "<div>\n",
       "<style scoped>\n",
       "    .dataframe tbody tr th:only-of-type {\n",
       "        vertical-align: middle;\n",
       "    }\n",
       "\n",
       "    .dataframe tbody tr th {\n",
       "        vertical-align: top;\n",
       "    }\n",
       "\n",
       "    .dataframe thead th {\n",
       "        text-align: right;\n",
       "    }\n",
       "</style>\n",
       "<table border=\"1\" class=\"dataframe\">\n",
       "  <thead>\n",
       "    <tr style=\"text-align: right;\">\n",
       "      <th></th>\n",
       "      <th>waterlevel</th>\n",
       "      <th>current</th>\n",
       "      <th>temperature</th>\n",
       "    </tr>\n",
       "    <tr>\n",
       "      <th>datetime</th>\n",
       "      <th></th>\n",
       "      <th></th>\n",
       "      <th></th>\n",
       "    </tr>\n",
       "  </thead>\n",
       "  <tbody>\n",
       "    <tr>\n",
       "      <th>2015-02-18</th>\n",
       "      <td>-8.36</td>\n",
       "      <td>34.500139</td>\n",
       "      <td>704.500139</td>\n",
       "    </tr>\n",
       "    <tr>\n",
       "      <th>2015-02-19</th>\n",
       "      <td>-5.28</td>\n",
       "      <td>41.941404</td>\n",
       "      <td>811.941404</td>\n",
       "    </tr>\n",
       "  </tbody>\n",
       "</table>\n",
       "</div>"
      ]
     },
     "metadata": {},
     "execution_count": 29
    }
   ],
   "metadata": {}
  },
  {
   "cell_type": "markdown",
   "source": [
    "The `sum` function doesn't make sense in this example. Better to use `mean`."
   ],
   "metadata": {}
  },
  {
   "cell_type": "code",
   "execution_count": 30,
   "source": [
    "df.resample('H').mean().head()"
   ],
   "outputs": [
    {
     "output_type": "execute_result",
     "data": {
      "text/plain": [
       "                     waterlevel   current  temperature\n",
       "datetime                                              \n",
       "2015-02-18 12:00:00   -0.246667  0.639494    10.639494\n",
       "2015-02-18 13:00:00   -0.305000  0.394493    10.394493\n",
       "2015-02-18 14:00:00   -0.340000  0.444244    10.444244\n",
       "2015-02-18 15:00:00   -0.322500  0.397150    10.397150\n",
       "2015-02-18 16:00:00   -0.283333  0.488036    10.488036"
      ],
      "text/html": [
       "<div>\n",
       "<style scoped>\n",
       "    .dataframe tbody tr th:only-of-type {\n",
       "        vertical-align: middle;\n",
       "    }\n",
       "\n",
       "    .dataframe tbody tr th {\n",
       "        vertical-align: top;\n",
       "    }\n",
       "\n",
       "    .dataframe thead th {\n",
       "        text-align: right;\n",
       "    }\n",
       "</style>\n",
       "<table border=\"1\" class=\"dataframe\">\n",
       "  <thead>\n",
       "    <tr style=\"text-align: right;\">\n",
       "      <th></th>\n",
       "      <th>waterlevel</th>\n",
       "      <th>current</th>\n",
       "      <th>temperature</th>\n",
       "    </tr>\n",
       "    <tr>\n",
       "      <th>datetime</th>\n",
       "      <th></th>\n",
       "      <th></th>\n",
       "      <th></th>\n",
       "    </tr>\n",
       "  </thead>\n",
       "  <tbody>\n",
       "    <tr>\n",
       "      <th>2015-02-18 12:00:00</th>\n",
       "      <td>-0.246667</td>\n",
       "      <td>0.639494</td>\n",
       "      <td>10.639494</td>\n",
       "    </tr>\n",
       "    <tr>\n",
       "      <th>2015-02-18 13:00:00</th>\n",
       "      <td>-0.305000</td>\n",
       "      <td>0.394493</td>\n",
       "      <td>10.394493</td>\n",
       "    </tr>\n",
       "    <tr>\n",
       "      <th>2015-02-18 14:00:00</th>\n",
       "      <td>-0.340000</td>\n",
       "      <td>0.444244</td>\n",
       "      <td>10.444244</td>\n",
       "    </tr>\n",
       "    <tr>\n",
       "      <th>2015-02-18 15:00:00</th>\n",
       "      <td>-0.322500</td>\n",
       "      <td>0.397150</td>\n",
       "      <td>10.397150</td>\n",
       "    </tr>\n",
       "    <tr>\n",
       "      <th>2015-02-18 16:00:00</th>\n",
       "      <td>-0.283333</td>\n",
       "      <td>0.488036</td>\n",
       "      <td>10.488036</td>\n",
       "    </tr>\n",
       "  </tbody>\n",
       "</table>\n",
       "</div>"
      ]
     },
     "metadata": {},
     "execution_count": 30
    }
   ],
   "metadata": {}
  },
  {
   "cell_type": "code",
   "execution_count": 31,
   "source": [
    "df.resample('H').first().head()"
   ],
   "outputs": [
    {
     "output_type": "execute_result",
     "data": {
      "text/plain": [
       "                     waterlevel   current  temperature\n",
       "datetime                                              \n",
       "2015-02-18 12:00:00       -0.23  0.852451    10.852451\n",
       "2015-02-18 13:00:00       -0.27  0.668361    10.668361\n",
       "2015-02-18 14:00:00       -0.34  0.788007    10.788007\n",
       "2015-02-18 15:00:00       -0.31  0.262204    10.262204\n",
       "2015-02-18 16:00:00       -0.32  0.012785    10.012785"
      ],
      "text/html": [
       "<div>\n",
       "<style scoped>\n",
       "    .dataframe tbody tr th:only-of-type {\n",
       "        vertical-align: middle;\n",
       "    }\n",
       "\n",
       "    .dataframe tbody tr th {\n",
       "        vertical-align: top;\n",
       "    }\n",
       "\n",
       "    .dataframe thead th {\n",
       "        text-align: right;\n",
       "    }\n",
       "</style>\n",
       "<table border=\"1\" class=\"dataframe\">\n",
       "  <thead>\n",
       "    <tr style=\"text-align: right;\">\n",
       "      <th></th>\n",
       "      <th>waterlevel</th>\n",
       "      <th>current</th>\n",
       "      <th>temperature</th>\n",
       "    </tr>\n",
       "    <tr>\n",
       "      <th>datetime</th>\n",
       "      <th></th>\n",
       "      <th></th>\n",
       "      <th></th>\n",
       "    </tr>\n",
       "  </thead>\n",
       "  <tbody>\n",
       "    <tr>\n",
       "      <th>2015-02-18 12:00:00</th>\n",
       "      <td>-0.23</td>\n",
       "      <td>0.852451</td>\n",
       "      <td>10.852451</td>\n",
       "    </tr>\n",
       "    <tr>\n",
       "      <th>2015-02-18 13:00:00</th>\n",
       "      <td>-0.27</td>\n",
       "      <td>0.668361</td>\n",
       "      <td>10.668361</td>\n",
       "    </tr>\n",
       "    <tr>\n",
       "      <th>2015-02-18 14:00:00</th>\n",
       "      <td>-0.34</td>\n",
       "      <td>0.788007</td>\n",
       "      <td>10.788007</td>\n",
       "    </tr>\n",
       "    <tr>\n",
       "      <th>2015-02-18 15:00:00</th>\n",
       "      <td>-0.31</td>\n",
       "      <td>0.262204</td>\n",
       "      <td>10.262204</td>\n",
       "    </tr>\n",
       "    <tr>\n",
       "      <th>2015-02-18 16:00:00</th>\n",
       "      <td>-0.32</td>\n",
       "      <td>0.012785</td>\n",
       "      <td>10.012785</td>\n",
       "    </tr>\n",
       "  </tbody>\n",
       "</table>\n",
       "</div>"
      ]
     },
     "metadata": {},
     "execution_count": 31
    }
   ],
   "metadata": {}
  },
  {
   "cell_type": "code",
   "execution_count": 32,
   "source": [
    "df.resample('H').median().head()"
   ],
   "outputs": [
    {
     "output_type": "execute_result",
     "data": {
      "text/plain": [
       "                     waterlevel   current  temperature\n",
       "datetime                                              \n",
       "2015-02-18 12:00:00      -0.250  0.852451    10.852451\n",
       "2015-02-18 13:00:00      -0.305  0.473989    10.473989\n",
       "2015-02-18 14:00:00      -0.340  0.382111    10.382111\n",
       "2015-02-18 15:00:00      -0.320  0.380533    10.380533\n",
       "2015-02-18 16:00:00      -0.285  0.501532    10.501532"
      ],
      "text/html": [
       "<div>\n",
       "<style scoped>\n",
       "    .dataframe tbody tr th:only-of-type {\n",
       "        vertical-align: middle;\n",
       "    }\n",
       "\n",
       "    .dataframe tbody tr th {\n",
       "        vertical-align: top;\n",
       "    }\n",
       "\n",
       "    .dataframe thead th {\n",
       "        text-align: right;\n",
       "    }\n",
       "</style>\n",
       "<table border=\"1\" class=\"dataframe\">\n",
       "  <thead>\n",
       "    <tr style=\"text-align: right;\">\n",
       "      <th></th>\n",
       "      <th>waterlevel</th>\n",
       "      <th>current</th>\n",
       "      <th>temperature</th>\n",
       "    </tr>\n",
       "    <tr>\n",
       "      <th>datetime</th>\n",
       "      <th></th>\n",
       "      <th></th>\n",
       "      <th></th>\n",
       "    </tr>\n",
       "  </thead>\n",
       "  <tbody>\n",
       "    <tr>\n",
       "      <th>2015-02-18 12:00:00</th>\n",
       "      <td>-0.250</td>\n",
       "      <td>0.852451</td>\n",
       "      <td>10.852451</td>\n",
       "    </tr>\n",
       "    <tr>\n",
       "      <th>2015-02-18 13:00:00</th>\n",
       "      <td>-0.305</td>\n",
       "      <td>0.473989</td>\n",
       "      <td>10.473989</td>\n",
       "    </tr>\n",
       "    <tr>\n",
       "      <th>2015-02-18 14:00:00</th>\n",
       "      <td>-0.340</td>\n",
       "      <td>0.382111</td>\n",
       "      <td>10.382111</td>\n",
       "    </tr>\n",
       "    <tr>\n",
       "      <th>2015-02-18 15:00:00</th>\n",
       "      <td>-0.320</td>\n",
       "      <td>0.380533</td>\n",
       "      <td>10.380533</td>\n",
       "    </tr>\n",
       "    <tr>\n",
       "      <th>2015-02-18 16:00:00</th>\n",
       "      <td>-0.285</td>\n",
       "      <td>0.501532</td>\n",
       "      <td>10.501532</td>\n",
       "    </tr>\n",
       "  </tbody>\n",
       "</table>\n",
       "</div>"
      ]
     },
     "metadata": {},
     "execution_count": 32
    }
   ],
   "metadata": {}
  },
  {
   "cell_type": "code",
   "execution_count": 33,
   "source": [
    "df_h = df.resample('H').interpolate().dropna()\n",
    "df_h.head()"
   ],
   "outputs": [
    {
     "output_type": "execute_result",
     "data": {
      "text/plain": [
       "                     waterlevel   current  temperature\n",
       "datetime                                              \n",
       "2015-02-18 13:00:00       -0.27  0.668361    10.668361\n",
       "2015-02-18 14:00:00       -0.34  0.788007    10.788007\n",
       "2015-02-18 15:00:00       -0.33  0.400396    10.400396\n",
       "2015-02-18 16:00:00       -0.32  0.012785    10.012785\n",
       "2015-02-18 17:00:00       -0.23  0.817479    10.817479"
      ],
      "text/html": [
       "<div>\n",
       "<style scoped>\n",
       "    .dataframe tbody tr th:only-of-type {\n",
       "        vertical-align: middle;\n",
       "    }\n",
       "\n",
       "    .dataframe tbody tr th {\n",
       "        vertical-align: top;\n",
       "    }\n",
       "\n",
       "    .dataframe thead th {\n",
       "        text-align: right;\n",
       "    }\n",
       "</style>\n",
       "<table border=\"1\" class=\"dataframe\">\n",
       "  <thead>\n",
       "    <tr style=\"text-align: right;\">\n",
       "      <th></th>\n",
       "      <th>waterlevel</th>\n",
       "      <th>current</th>\n",
       "      <th>temperature</th>\n",
       "    </tr>\n",
       "    <tr>\n",
       "      <th>datetime</th>\n",
       "      <th></th>\n",
       "      <th></th>\n",
       "      <th></th>\n",
       "    </tr>\n",
       "  </thead>\n",
       "  <tbody>\n",
       "    <tr>\n",
       "      <th>2015-02-18 13:00:00</th>\n",
       "      <td>-0.27</td>\n",
       "      <td>0.668361</td>\n",
       "      <td>10.668361</td>\n",
       "    </tr>\n",
       "    <tr>\n",
       "      <th>2015-02-18 14:00:00</th>\n",
       "      <td>-0.34</td>\n",
       "      <td>0.788007</td>\n",
       "      <td>10.788007</td>\n",
       "    </tr>\n",
       "    <tr>\n",
       "      <th>2015-02-18 15:00:00</th>\n",
       "      <td>-0.33</td>\n",
       "      <td>0.400396</td>\n",
       "      <td>10.400396</td>\n",
       "    </tr>\n",
       "    <tr>\n",
       "      <th>2015-02-18 16:00:00</th>\n",
       "      <td>-0.32</td>\n",
       "      <td>0.012785</td>\n",
       "      <td>10.012785</td>\n",
       "    </tr>\n",
       "    <tr>\n",
       "      <th>2015-02-18 17:00:00</th>\n",
       "      <td>-0.23</td>\n",
       "      <td>0.817479</td>\n",
       "      <td>10.817479</td>\n",
       "    </tr>\n",
       "  </tbody>\n",
       "</table>\n",
       "</div>"
      ]
     },
     "metadata": {},
     "execution_count": 33
    }
   ],
   "metadata": {}
  },
  {
   "cell_type": "markdown",
   "source": [
    "## Extrapolation"
   ],
   "metadata": {}
  },
  {
   "cell_type": "code",
   "execution_count": 34,
   "source": [
    "rng = pd.date_range(\"2015-02-17\",\"2015-02-20\",freq='H')\n",
    "ix = pd.DatetimeIndex(rng)\n",
    "dfr = df_interp.reindex(ix)\n",
    "dfr.plot()"
   ],
   "outputs": [
    {
     "output_type": "execute_result",
     "data": {
      "text/plain": [
       "<AxesSubplot:>"
      ]
     },
     "metadata": {},
     "execution_count": 34
    },
    {
     "output_type": "display_data",
     "data": {
      "text/plain": [
       "<Figure size 432x288 with 1 Axes>"
      ],
      "image/png": "[encoded data removed]"
     },
     "metadata": {
      "needs_background": "light"
     }
    }
   ],
   "metadata": {}
  },
  {
   "cell_type": "code",
   "execution_count": 35,
   "source": [
    "dfr.ffill().plot()"
   ],
   "outputs": [
    {
     "output_type": "execute_result",
     "data": {
      "text/plain": [
       "<AxesSubplot:>"
      ]
     },
     "metadata": {},
     "execution_count": 35
    },
    {
     "output_type": "display_data",
     "data": {
      "text/plain": [
       "<Figure size 432x288 with 1 Axes>"
      ],
      "image/png": "[encoded data removed]"
     },
     "metadata": {
      "needs_background": "light"
     }
    }
   ],
   "metadata": {}
  },
  {
   "cell_type": "code",
   "execution_count": 36,
   "source": [
    "df_extra = dfr.bfill().ffill()\n",
    "df_extra.plot()"
   ],
   "outputs": [
    {
     "output_type": "execute_result",
     "data": {
      "text/plain": [
       "<AxesSubplot:>"
      ]
     },
     "metadata": {},
     "execution_count": 36
    },
    {
     "output_type": "display_data",
     "data": {
      "text/plain": [
       "<Figure size 432x288 with 1 Axes>"
      ],
      "image/png": "[encoded data removed]"
     },
     "metadata": {
      "needs_background": "light"
     }
    }
   ],
   "metadata": {}
  },
  {
   "cell_type": "code",
   "execution_count": 37,
   "source": [
    "df_extra"
   ],
   "outputs": [
    {
     "output_type": "execute_result",
     "data": {
      "text/plain": [
       "                     waterlevel   current  temperature\n",
       "2015-02-17 00:00:00       -0.27  0.668361    10.668361\n",
       "2015-02-17 01:00:00       -0.27  0.668361    10.668361\n",
       "2015-02-17 02:00:00       -0.27  0.668361    10.668361\n",
       "2015-02-17 03:00:00       -0.27  0.668361    10.668361\n",
       "2015-02-17 04:00:00       -0.27  0.668361    10.668361\n",
       "...                         ...       ...          ...\n",
       "2015-02-19 20:00:00       -0.08  0.619919    10.619919\n",
       "2015-02-19 21:00:00       -0.08  0.619919    10.619919\n",
       "2015-02-19 22:00:00       -0.08  0.619919    10.619919\n",
       "2015-02-19 23:00:00       -0.08  0.619919    10.619919\n",
       "2015-02-20 00:00:00       -0.08  0.619919    10.619919\n",
       "\n",
       "[73 rows x 3 columns]"
      ],
      "text/html": [
       "<div>\n",
       "<style scoped>\n",
       "    .dataframe tbody tr th:only-of-type {\n",
       "        vertical-align: middle;\n",
       "    }\n",
       "\n",
       "    .dataframe tbody tr th {\n",
       "        vertical-align: top;\n",
       "    }\n",
       "\n",
       "    .dataframe thead th {\n",
       "        text-align: right;\n",
       "    }\n",
       "</style>\n",
       "<table border=\"1\" class=\"dataframe\">\n",
       "  <thead>\n",
       "    <tr style=\"text-align: right;\">\n",
       "      <th></th>\n",
       "      <th>waterlevel</th>\n",
       "      <th>current</th>\n",
       "      <th>temperature</th>\n",
       "    </tr>\n",
       "  </thead>\n",
       "  <tbody>\n",
       "    <tr>\n",
       "      <th>2015-02-17 00:00:00</th>\n",
       "      <td>-0.27</td>\n",
       "      <td>0.668361</td>\n",
       "      <td>10.668361</td>\n",
       "    </tr>\n",
       "    <tr>\n",
       "      <th>2015-02-17 01:00:00</th>\n",
       "      <td>-0.27</td>\n",
       "      <td>0.668361</td>\n",
       "      <td>10.668361</td>\n",
       "    </tr>\n",
       "    <tr>\n",
       "      <th>2015-02-17 02:00:00</th>\n",
       "      <td>-0.27</td>\n",
       "      <td>0.668361</td>\n",
       "      <td>10.668361</td>\n",
       "    </tr>\n",
       "    <tr>\n",
       "      <th>2015-02-17 03:00:00</th>\n",
       "      <td>-0.27</td>\n",
       "      <td>0.668361</td>\n",
       "      <td>10.668361</td>\n",
       "    </tr>\n",
       "    <tr>\n",
       "      <th>2015-02-17 04:00:00</th>\n",
       "      <td>-0.27</td>\n",
       "      <td>0.668361</td>\n",
       "      <td>10.668361</td>\n",
       "    </tr>\n",
       "    <tr>\n",
       "      <th>...</th>\n",
       "      <td>...</td>\n",
       "      <td>...</td>\n",
       "      <td>...</td>\n",
       "    </tr>\n",
       "    <tr>\n",
       "      <th>2015-02-19 20:00:00</th>\n",
       "      <td>-0.08</td>\n",
       "      <td>0.619919</td>\n",
       "      <td>10.619919</td>\n",
       "    </tr>\n",
       "    <tr>\n",
       "      <th>2015-02-19 21:00:00</th>\n",
       "      <td>-0.08</td>\n",
       "      <td>0.619919</td>\n",
       "      <td>10.619919</td>\n",
       "    </tr>\n",
       "    <tr>\n",
       "      <th>2015-02-19 22:00:00</th>\n",
       "      <td>-0.08</td>\n",
       "      <td>0.619919</td>\n",
       "      <td>10.619919</td>\n",
       "    </tr>\n",
       "    <tr>\n",
       "      <th>2015-02-19 23:00:00</th>\n",
       "      <td>-0.08</td>\n",
       "      <td>0.619919</td>\n",
       "      <td>10.619919</td>\n",
       "    </tr>\n",
       "    <tr>\n",
       "      <th>2015-02-20 00:00:00</th>\n",
       "      <td>-0.08</td>\n",
       "      <td>0.619919</td>\n",
       "      <td>10.619919</td>\n",
       "    </tr>\n",
       "  </tbody>\n",
       "</table>\n",
       "<p>73 rows × 3 columns</p>\n",
       "</div>"
      ]
     },
     "metadata": {},
     "execution_count": 37
    }
   ],
   "metadata": {}
  },
  {
   "cell_type": "code",
   "execution_count": 38,
   "source": [
    "from IPython.display import YouTubeVideo\n",
    "\n",
    "YouTubeVideo(\"8upGdZMlkYM\")"
   ],
   "outputs": [
    {
     "output_type": "execute_result",
     "data": {
      "text/plain": [
       "<IPython.lib.display.YouTubeVideo at 0x258027a0b80>"
      ],
      "image/jpeg": "[encoded data removed]",
      "text/html": [
       "\n",
       "        <iframe\n",
       "            width=\"400\"\n",
       "            height=\"300\"\n",
       "            src=\"https://www.youtube.com/embed/8upGdZMlkYM\"\n",
       "            frameborder=\"0\"\n",
       "            allowfullscreen\n",
       "        ></iframe>\n",
       "        "
      ]
     },
     "metadata": {},
     "execution_count": 38
    }
   ],
   "metadata": {}
  },
  {
   "cell_type": "markdown",
   "source": [
    "For more tips and tricks on how to use Pandas for timeseries data see this talk:\n",
    "[Ian Ozsvald: A gentle introduction to Pandas timeseries and Seaborn | PyData London 2019](https://www.youtube.com/watch?v=8upGdZMlkYM)"
   ],
   "metadata": {}
  }
 ],
 "metadata": {
  "interpreter": {
   "hash": "f4041ee05ab07c15354d6207e763f17a216c3f5ccf08906343c2b4fd3fa7a6fb"
  },
  "kernelspec": {
   "display_name": "Python 3 (ipykernel)",
   "language": "python",
   "name": "python3"
  },
  "language_info": {
   "codemirror_mode": {
    "name": "ipython",
    "version": 3
   },
   "file_extension": ".py",
   "mimetype": "text/x-python",
   "name": "python",
   "nbconvert_exporter": "python",
   "pygments_lexer": "ipython3",
   "version": "3.9.6"
  }
 },
 "nbformat": 4,
 "nbformat_minor": 4
}