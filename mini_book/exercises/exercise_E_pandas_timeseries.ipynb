{
 "cells": [
  {
   "cell_type": "markdown",
   "source": [
    "# Exercise E: Pandas timeseries"
   ],
   "metadata": {}
  },
  {
   "cell_type": "code",
   "execution_count": null,
   "source": [
    "import pandas as pd"
   ],
   "outputs": [],
   "metadata": {}
  }
 ],
 "metadata": {
  "orig_nbformat": 4,
  "language_info": {
   "name": "python"
  }
 },
 "nbformat": 4,
 "nbformat_minor": 2
}