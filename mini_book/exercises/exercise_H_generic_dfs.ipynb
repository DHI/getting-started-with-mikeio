{
 "cells": [
  {
   "cell_type": "markdown",
   "metadata": {},
   "source": [
    "# Exercise H: Generic dfs\n",
    "\n",
    "Test your skills in processing of generic dfs files."
   ]
  },
  {
   "cell_type": "code",
   "execution_count": 1,
   "metadata": {},
   "outputs": [],
   "source": [
    "import mikeio\n",
    "import mikeio.generic"
   ]
  },
  {
   "cell_type": "markdown",
   "metadata": {},
   "source": [
    "## read()\n",
    "\n",
    "read returns a mikeio [Dataset](https://dhi.github.io/mikeio/api/Dataset.html) for any dfs file"
   ]
  },
  {
   "cell_type": "code",
   "execution_count": 2,
   "metadata": {},
   "outputs": [],
   "source": [
    "fn = '../data/wind_20050501.dfs2'"
   ]
  },
  {
   "cell_type": "code",
   "execution_count": null,
   "metadata": {},
   "outputs": [],
   "source": [
    "# read fn to a variable ds and determine:\n",
    "# a) the number of items\n",
    "# b) the start and end of the file\n",
    "# a) the minimum value for each timestep of the first item \n",
    "# (hint: use the .min(axis='space') on the dataarray"
   ]
  },
  {
   "cell_type": "markdown",
   "metadata": {},
   "source": [
    "## concat()\n",
    "\n",
    "concat belongs to the submodule mikeio.generic"
   ]
  },
  {
   "cell_type": "code",
   "execution_count": 10,
   "metadata": {},
   "outputs": [],
   "source": [
    "fn1 = '../data/wind_20050501.dfs2'\n",
    "fn2 = '../data/wind_20050502.dfs2'\n",
    "fn3 = '../data/wind_20050503.dfs2'"
   ]
  },
  {
   "cell_type": "code",
   "execution_count": 18,
   "metadata": {},
   "outputs": [],
   "source": [
    "# use concat and the above files to create a \n",
    "# new file \"wind_200505_3days.dfs2\"b"
   ]
  },
  {
   "cell_type": "code",
   "execution_count": 12,
   "metadata": {},
   "outputs": [],
   "source": [
    "fn4 = '../data/wind_20050504.dfs2'"
   ]
  },
  {
   "cell_type": "code",
   "execution_count": null,
   "metadata": {},
   "outputs": [],
   "source": [
    "# add also fn4 and see what happens. Why does it fail? "
   ]
  },
  {
   "cell_type": "markdown",
   "metadata": {},
   "source": [
    "## diff()\n",
    "\n",
    "diff() belongs to the submodule mikeio.generic "
   ]
  },
  {
   "cell_type": "code",
   "execution_count": null,
   "metadata": {},
   "outputs": [],
   "source": [
    "fnA = '../data/wind_20050501.dfs2'\n",
    "fnB = '../data/wind_20050501_v2.dfs2'"
   ]
  },
  {
   "cell_type": "code",
   "execution_count": null,
   "metadata": {},
   "outputs": [],
   "source": [
    "# use diff to produce a new file wind_20050501_diff.dfs2 \n",
    "# with the difference between the two above files"
   ]
  }
 ],
 "metadata": {
  "interpreter": {
   "hash": "fa576ebcd40e010bdc0ae86b06ce09151f3424f9e9aed6893ff04f39a9299d89"
  },
  "kernelspec": {
   "display_name": "Python 3 (ipykernel)",
   "language": "python",
   "name": "python3"
  },
  "language_info": {
   "codemirror_mode": {
    "name": "ipython",
    "version": 3
   },
   "file_extension": ".py",
   "mimetype": "text/x-python",
   "name": "python",
   "nbconvert_exporter": "python",
   "pygments_lexer": "ipython3",
   "version": "3.9.6"
  }
 },
 "nbformat": 4,
 "nbformat_minor": 4
}
