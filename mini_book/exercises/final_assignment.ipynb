{
 "cells": [
  {
   "cell_type": "markdown",
   "source": [
    "# Final assignment: Data processing\r\n",
    "\r\n",
    "The final exercise involves converting data from an hypothetical external provider.\r\n",
    "\r\n",
    "The data will be used for MIKE modelling and must be converted to Dfs0 with apppropriate EUM types/units in order to be used by the MIKE software.\r\n",
    "\r\n",
    "The data is provided as a [zip file](https://github.com/DHI/getting-started-with-mikeio/raw/main/mini_book/data/stream_data.zip).\r\n",
    "\r\n",
    "Inside the zip file, there are a many timeseries of discharge data from streams located across several regions (`*.dat`).\r\n",
    "\r\n",
    "Static data for each region is found in a separate file (`region_info.csv`)\r\n",
    "\r\n",
    "Pandas `read_csv` is very powerful, but here are a few things to keep in mind\r\n",
    "\r\n",
    "* Column separator e.g. comma (,)\r\n",
    "* Blank lines\r\n",
    "* Comments\r\n",
    "* Missing values\r\n",
    "* Date format\r\n",
    "\r\n",
    "The MIKE engine can not handle missing values / delete values, fill in in missing values with interpolated values.\r\n",
    "\r\n",
    "In order to save diskspace, crop the timeseries to simulation period Feb 1 - June 30."
   ],
   "metadata": {}
  },
  {
   "cell_type": "markdown",
   "source": [
    "## G.1 Convert all timeseries to Dfs0"
   ],
   "metadata": {}
  },
  {
   "cell_type": "code",
   "execution_count": 22,
   "source": [
    "import os\r\n",
    "import numpy as np\r\n",
    "import pandas as pd\r\n",
    "import mikeio"
   ],
   "outputs": [],
   "metadata": {}
  },
  {
   "cell_type": "code",
   "execution_count": 23,
   "source": [
    "# This is one way to find and filter filenames in a directory\r\n",
    "# [x for x in os.listdir(\"datafolder\") if \"some_str\" in x]"
   ],
   "outputs": [],
   "metadata": {}
  },
  {
   "cell_type": "code",
   "execution_count": 36,
   "source": [
    "# This is useful!\r\n",
    "# help(pd.read_csv)"
   ],
   "outputs": [],
   "metadata": {}
  },
  {
   "cell_type": "code",
   "execution_count": 37,
   "source": [
    "# example of reading csv\r\n",
    "# df = pd.read_csv(\"../data/oceandata.csv\", comment='#', index_col=0, sep=',', parse_dates=True)\r\n"
   ],
   "outputs": [],
   "metadata": {}
  },
  {
   "cell_type": "markdown",
   "source": [
    "## G.2 Add region specific info to normalize timeseries with surface area\n",
    "\n",
    "Each timeseries belongs to a region identified in the filename, e.g. `s15_east_novayork_river.dat` is located in the `novayork` region."
   ],
   "metadata": {}
  },
  {
   "cell_type": "markdown",
   "source": [
    "## G.3 Gridded weather forcing data\n",
    "\n",
    "The dataset is provided in NumPy binary format and consists of\n",
    "\n",
    "* Temperture 2m (degree Kelvin)\n",
    "* Relative humidity 2m (%)\n",
    "\n",
    "The spatial grid is: 40E - 50E, 10-15N with a grid spacing of 1 degree in each direction.\n",
    "\n",
    "The time axis consists of two timesteps '2005-01-31', '2005-07-31' which is sufficent to cover the simulation period."
   ],
   "metadata": {}
  },
  {
   "cell_type": "code",
   "execution_count": 76,
   "source": [
    "tmp = np.load(\"../data/temperature_2m.npy\")\n",
    "rh = np.load(\"../data/rel_hum_2m.npy\")"
   ],
   "outputs": [],
   "metadata": {}
  },
  {
   "cell_type": "code",
   "execution_count": 79,
   "source": [
    "dy = 1.0\n",
    "dx = 1.0\n",
    "time = pd.date_range(\"2005-01-01\", freq='6M', periods=2)"
   ],
   "outputs": [],
   "metadata": {}
  },
  {
   "cell_type": "code",
   "execution_count": 85,
   "source": [
    "from mikeio import Dfs2, Dataset\n",
    "from mikeio.eum import ItemInfo, EUMType, EUMUnit"
   ],
   "outputs": [],
   "metadata": {}
  },
  {
   "cell_type": "code",
   "execution_count": 103,
   "source": [
    "data = [tmp, rh]\n",
    "# ds = Dataset(data,..."
   ],
   "outputs": [],
   "metadata": {}
  },
  {
   "cell_type": "markdown",
   "source": [
    "The expected outcome\n",
    "\n",
    "![](../images/weather_dfs2.png)"
   ],
   "metadata": {}
  },
  {
   "cell_type": "code",
   "execution_count": null,
   "source": [],
   "outputs": [],
   "metadata": {}
  }
 ],
 "metadata": {
  "interpreter": {
   "hash": "fa576ebcd40e010bdc0ae86b06ce09151f3424f9e9aed6893ff04f39a9299d89"
  },
  "kernelspec": {
   "display_name": "Python 3 (ipykernel)",
   "language": "python",
   "name": "python3"
  },
  "language_info": {
   "codemirror_mode": {
    "name": "ipython",
    "version": 3
   },
   "file_extension": ".py",
   "mimetype": "text/x-python",
   "name": "python",
   "nbconvert_exporter": "python",
   "pygments_lexer": "ipython3",
   "version": "3.9.6"
  }
 },
 "nbformat": 4,
 "nbformat_minor": 4
}