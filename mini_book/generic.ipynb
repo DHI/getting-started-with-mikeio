{
 "cells": [
  {
   "cell_type": "code",
   "execution_count": null,
   "source": [
    "from utils import sysinfo\n",
    "\n",
    "sysinfo()"
   ],
   "outputs": [],
   "metadata": {}
  },
  {
   "cell_type": "markdown",
   "source": [
    "# Generic dfs processing\n",
    "Tools and methods that applies to any type of dfs files.\n",
    "\n",
    "The generic tools are useful for common data processing tasks, where detailed configuration is not necessary. \n",
    "\n",
    "* mikeio.generic: methods that read any dfs file and outputs a new dfs file of the same type\n",
    "    * concat: Concatenates files along the time axis\n",
    "    * scale: Apply scaling to any dfs file\n",
    "    * sum: Sum two dfs files\n",
    "    * diff: Calculate difference between two dfs files\n",
    "    * extract: Extract timesteps and/or items to a new dfs file"
   ],
   "metadata": {}
  },
  {
   "cell_type": "code",
   "execution_count": 2,
   "source": [
    "# TODO"
   ],
   "outputs": [],
   "metadata": {}
  },
  {
   "cell_type": "code",
   "execution_count": null,
   "source": [],
   "outputs": [],
   "metadata": {}
  }
 ],
 "metadata": {
  "kernelspec": {
   "display_name": "Python 3 (ipykernel)",
   "language": "python",
   "name": "python3"
  },
  "language_info": {
   "codemirror_mode": {
    "name": "ipython",
    "version": 3
   },
   "file_extension": ".py",
   "mimetype": "text/x-python",
   "name": "python",
   "nbconvert_exporter": "python",
   "pygments_lexer": "ipython3",
   "version": "3.9.6"
  }
 },
 "nbformat": 4,
 "nbformat_minor": 5
}