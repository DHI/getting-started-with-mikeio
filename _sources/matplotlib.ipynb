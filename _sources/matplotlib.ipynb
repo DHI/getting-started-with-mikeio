{
 "cells": [
  {
   "cell_type": "markdown",
   "id": "f1b31197",
   "metadata": {},
   "source": [
    "# Matplotlib\n",
    "\n",
    "There are many packages for plotting in Python but [Matplotlib](https://matplotlib.org/) is the most widely used.\n",
    "\n",
    "Plotting is not covered in detail in this course, but below are some examples to get started. There are plenty of other examples on the [Matplotlib Gallery](https://matplotlib.org/stable/gallery/index.html)"
   ]
  },
  {
   "cell_type": "markdown",
   "id": "16026dcb",
   "metadata": {},
   "source": [
    "## Line plots (e.g. timeseries)"
   ]
  },
  {
   "cell_type": "code",
   "execution_count": null,
   "id": "32bed86f",
   "metadata": {},
   "outputs": [],
   "source": [
    "import numpy as np\n",
    "import matplotlib.pyplot as plt\n",
    "\n",
    "x = np.linspace(0, 24, num=100)\n",
    "y1 = np.sin(x)\n",
    "\n",
    "plt.plot(x,y1)"
   ]
  },
  {
   "cell_type": "markdown",
   "id": "d958cd8d",
   "metadata": {},
   "source": [
    "Great, let's add some common things, like legend and axis labels."
   ]
  },
  {
   "cell_type": "code",
   "execution_count": null,
   "id": "006b95a0",
   "metadata": {},
   "outputs": [],
   "source": [
    "y2 = 0.5*np.sin(x/4)\n",
    "plt.plot(x,y1, label='fast')\n",
    "plt.plot(x,y2, label='not so fast')\n",
    "plt.ylim(-1.5,1.5)\n",
    "plt.legend(loc='upper right')\n",
    "plt.title(f\"Max values: {y1.max():.2f},  {y2.max():.2f}\")\n",
    "plt.ylabel(\"Water level (m)\")\n",
    "plt.xlabel(\"Relative time (h)\")"
   ]
  },
  {
   "cell_type": "markdown",
   "id": "1e009ae7",
   "metadata": {},
   "source": [
    "Wow, the plot looks great, but it is too narrow. ([Figsize units](https://matplotlib.org/devdocs/gallery/subplots_axes_and_figures/figure_size_units.html))\n",
    "\n",
    "And how do I save it?"
   ]
  },
  {
   "cell_type": "code",
   "execution_count": null,
   "id": "e80eec73",
   "metadata": {},
   "outputs": [],
   "source": [
    "plt.subplots(figsize=(12,4)) # size in inches\n",
    "\n",
    "y2 = 0.5*np.sin(x/4)\n",
    "plt.plot(x,y1, label='fast')\n",
    "plt.plot(x,y2, label='not so fast')\n",
    "plt.ylim(-1.5,1.5)\n",
    "plt.legend(loc='upper right')\n",
    "plt.title(f\"Max values: {y1.max():.2f},  {y2.max():.2f}\")\n",
    "plt.ylabel(\"Water level (m)\")\n",
    "plt.xlabel(\"Relative time (h)\")\n",
    "plt.savefig(\"sine_functions.png\")\n"
   ]
  },
  {
   "cell_type": "markdown",
   "id": "b7dd0c7d",
   "metadata": {},
   "source": [
    "## Scatter plot"
   ]
  },
  {
   "cell_type": "code",
   "execution_count": null,
   "id": "8e0f588d",
   "metadata": {},
   "outputs": [],
   "source": [
    "np.random.seed(0)\n",
    "X = np.random.multivariate_normal(mean=[0,0], \n",
    "                                  cov=[[1.0, 0.9],[0.9, 1.0]],\n",
    "                                  size=1000)\n",
    "x = X[:,0]\n",
    "y = X[:,1]"
   ]
  },
  {
   "cell_type": "code",
   "execution_count": null,
   "id": "4591f063",
   "metadata": {},
   "outputs": [],
   "source": [
    "plt.scatter(x,y)\n",
    "plt.ylabel(\"Some variable\")\n",
    "plt.xlabel(\"The other variable\")"
   ]
  },
  {
   "cell_type": "markdown",
   "id": "428f5e5c",
   "metadata": {},
   "source": [
    "Many points on top of each other..."
   ]
  },
  {
   "cell_type": "code",
   "execution_count": null,
   "id": "585c5e59",
   "metadata": {},
   "outputs": [],
   "source": [
    "plt.scatter(x,y, alpha=0.2)\n",
    "plt.ylabel(\"Some variable\")\n",
    "plt.xlabel(\"The other variable\")"
   ]
  },
  {
   "cell_type": "code",
   "execution_count": null,
   "id": "98f0164a",
   "metadata": {},
   "outputs": [],
   "source": [
    "plt.scatter(x,y, alpha=0.2, label='Data')\n",
    "plt.axvline(-2.5, linestyle='--', label=\"Threshold\")\n",
    "plt.scatter(x[x<-2.5],y[x<-2.5], s=50, c='red', label='Out of range')\n",
    "plt.xlim(-4,4)\n",
    "plt.ylim(-4,4)\n",
    "r = np.corrcoef(x,y)[0,1]\n",
    "plt.title(f\"Correlation: {r:.3f}\")\n",
    "plt.legend();"
   ]
  },
  {
   "cell_type": "markdown",
   "id": "4b473c6d",
   "metadata": {},
   "source": [
    "## Histogram"
   ]
  },
  {
   "cell_type": "code",
   "execution_count": null,
   "id": "769ceb0e",
   "metadata": {},
   "outputs": [],
   "source": [
    "plt.hist(x, bins=10); # semi-colon hides output"
   ]
  },
  {
   "cell_type": "code",
   "execution_count": null,
   "id": "cc8866c6",
   "metadata": {},
   "outputs": [],
   "source": [
    "plt.hist(x, cumulative=True, bins=100, density=True, color='gray')\n",
    "plt.title(\"Cumulative histogram\")\n",
    "plt.axhline(1.0, linestyle='--',c='black')\n",
    "plt.ylim(-.1,1.1)\n",
    "plt.text(-3,.95,\"It doesn't get higher than this\")"
   ]
  },
  {
   "cell_type": "code",
   "execution_count": null,
   "id": "64e87c0d",
   "metadata": {},
   "outputs": [],
   "source": []
  }
 ],
 "metadata": {
  "kernelspec": {
   "display_name": "Python 3 (ipykernel)",
   "language": "python",
   "name": "python3"
  },
  "language_info": {
   "codemirror_mode": {
    "name": "ipython",
    "version": 3
   },
   "file_extension": ".py",
   "mimetype": "text/x-python",
   "name": "python",
   "nbconvert_exporter": "python",
   "pygments_lexer": "ipython3",
   "version": "3.9.6"
  }
 },
 "nbformat": 4,
 "nbformat_minor": 5
}
