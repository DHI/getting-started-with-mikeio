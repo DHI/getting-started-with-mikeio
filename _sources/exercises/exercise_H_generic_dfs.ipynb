{
 "cells": [
  {
   "cell_type": "markdown",
   "source": [
    "# Exercise H: Generic dfs\n",
    "\n",
    "Test your skills in processing of generic dfs files."
   ],
   "metadata": {}
  },
  {
   "cell_type": "code",
   "execution_count": null,
   "source": [
    "import mikeio\n",
    "import mikeio.generic"
   ],
   "outputs": [],
   "metadata": {}
  },
  {
   "cell_type": "markdown",
   "source": [
    "## read()\n",
    "\n",
    "read returns a mikeio [Dataset](https://dhi.github.io/mikeio/understanding_dataset.html) for any dfs file"
   ],
   "metadata": {}
  },
  {
   "cell_type": "code",
   "execution_count": null,
   "source": [
    "fn = '../data/wind_20050501.dfs2'"
   ],
   "outputs": [],
   "metadata": {}
  },
  {
   "cell_type": "code",
   "execution_count": null,
   "source": [
    "# read fn to a variable ds and determine:\n",
    "# a) the number of items\n",
    "# b) the start and end of the file\n",
    "# a) the minimum value of the first item \n",
    "# (hint: you access the data of the first item with ds.data[0])"
   ],
   "outputs": [],
   "metadata": {}
  },
  {
   "cell_type": "markdown",
   "source": [
    "## concat()\n",
    "\n",
    "concat belongs to the submodule mikeio.generic"
   ],
   "metadata": {}
  },
  {
   "cell_type": "code",
   "execution_count": null,
   "source": [
    "fn1 = '../data/wind_20050501.dfs2'\n",
    "fn2 = '../data/wind_20050502.dfs2'\n",
    "fn3 = '../data/wind_20050503.dfs2'"
   ],
   "outputs": [],
   "metadata": {}
  },
  {
   "cell_type": "code",
   "execution_count": null,
   "source": [
    "# use concat and the above files to create a \n",
    "# new file \"wind_200505_3days.dfs2\""
   ],
   "outputs": [],
   "metadata": {}
  },
  {
   "cell_type": "code",
   "execution_count": null,
   "source": [
    "fn4 = '../data/wind_20050504.dfs2'"
   ],
   "outputs": [],
   "metadata": {}
  },
  {
   "cell_type": "code",
   "execution_count": null,
   "source": [
    "# add also fn4 and see what happens. Why does it fail? "
   ],
   "outputs": [],
   "metadata": {}
  },
  {
   "cell_type": "markdown",
   "source": [
    "## diff()\n",
    "\n",
    "diff() belongs to the submodule mikeio.generic "
   ],
   "metadata": {}
  },
  {
   "cell_type": "code",
   "execution_count": null,
   "source": [
    "fnA = '../data/wind_20050501.dfs2'\n",
    "fnB = '../data/wind_20050501_v2.dfs2'"
   ],
   "outputs": [],
   "metadata": {}
  },
  {
   "cell_type": "code",
   "execution_count": null,
   "source": [
    "# use diff to produce a new file wind_20050501_diff.dfs2 \n",
    "# with the difference between the two above files"
   ],
   "outputs": [],
   "metadata": {}
  }
 ],
 "metadata": {
  "orig_nbformat": 4,
  "language_info": {
   "name": "python",
   "version": "3.8.10",
   "mimetype": "text/x-python",
   "codemirror_mode": {
    "name": "ipython",
    "version": 3
   },
   "pygments_lexer": "ipython3",
   "nbconvert_exporter": "python",
   "file_extension": ".py"
  },
  "kernelspec": {
   "name": "python3",
   "display_name": "Python 3.8.10 64-bit ('base': conda)"
  },
  "interpreter": {
   "hash": "fa576ebcd40e010bdc0ae86b06ce09151f3424f9e9aed6893ff04f39a9299d89"
  }
 },
 "nbformat": 4,
 "nbformat_minor": 2
}