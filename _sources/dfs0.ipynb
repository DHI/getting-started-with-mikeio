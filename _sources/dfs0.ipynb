{
 "cells": [
  {
   "cell_type": "markdown",
   "metadata": {},
   "source": [
    "# Dfs0\n",
    "\n",
    "See [Dfs0 in MIKE IO Documentation](https://dhi.github.io/mikeio/user-guide/dfs0.html)\n"
   ]
  },
  {
   "cell_type": "code",
   "execution_count": 1,
   "metadata": {},
   "outputs": [],
   "source": [
    "import pandas as pd\n",
    "import mikeio"
   ]
  },
  {
   "cell_type": "markdown",
   "metadata": {},
   "source": [
    "## Reading data"
   ]
  },
  {
   "cell_type": "code",
   "execution_count": 2,
   "metadata": {},
   "outputs": [
    {
     "data": {
      "text/plain": [
       "<mikeio.Dataset>\n",
       "dims: (time:2017)\n",
       "time: 2018-03-04 00:00:00 - 2018-03-11 00:00:00 (2017 records)\n",
       "geometry: GeometryUndefined()\n",
       "number of items: 12"
      ]
     },
     "execution_count": 2,
     "metadata": {},
     "output_type": "execute_result"
    }
   ],
   "source": [
    "ds = mikeio.read(\"data/Oresund_ts.dfs0\")\n",
    "ds"
   ]
  },
  {
   "cell_type": "code",
   "execution_count": 3,
   "metadata": {},
   "outputs": [
    {
     "data": {
      "text/plain": [
       "mikeio.dataset._dataset.Dataset"
      ]
     },
     "execution_count": 3,
     "metadata": {},
     "output_type": "execute_result"
    }
   ],
   "source": [
    "type(ds)"
   ]
  },
  {
   "cell_type": "markdown",
   "metadata": {},
   "source": [
    "The mikeio read function returns a `Dataset` which is a container of `DataArray`s.\n",
    "\n",
    "A `DataArray` can be selected by name or by index."
   ]
  },
  {
   "cell_type": "code",
   "execution_count": 4,
   "metadata": {},
   "outputs": [
    {
     "data": {
      "text/plain": [
       "<mikeio.DataArray>\n",
       "name: Drogden: Surface elevation\n",
       "dims: (time:2017)\n",
       "time: 2018-03-04 00:00:00 - 2018-03-11 00:00:00 (2017 records)\n",
       "geometry: GeometryUndefined()\n",
       "values: [0.05063, 0.04713, ..., 0.2404]"
      ]
     },
     "execution_count": 4,
     "metadata": {},
     "output_type": "execute_result"
    }
   ],
   "source": [
    "da = ds[\"Drogden: Surface elevation\"]   # or ds.Drogden_Surface_elevation or ds[2]\n",
    "da"
   ]
  },
  {
   "cell_type": "markdown",
   "metadata": {},
   "source": [
    "Upon `read`, specific items can be selected with the `items` argument using name or index."
   ]
  },
  {
   "cell_type": "code",
   "execution_count": 5,
   "metadata": {},
   "outputs": [
    {
     "data": {
      "text/plain": [
       "<mikeio.Dataset>\n",
       "dims: (time:2017)\n",
       "time: 2018-03-04 00:00:00 - 2018-03-11 00:00:00 (2017 records)\n",
       "geometry: GeometryUndefined()\n",
       "items:\n",
       "  0:  Viken: Surface elevation <Surface Elevation> (meter)\n",
       "  1:  Drogden: Surface elevation <Surface Elevation> (meter)\n",
       "  2:  Klagshamn: Surface elevation <Surface Elevation> (meter)"
      ]
     },
     "execution_count": 5,
     "metadata": {},
     "output_type": "execute_result"
    }
   ],
   "source": [
    "ds = mikeio.read(\"data/Oresund_ts.dfs0\", items=[0,2,3])\n",
    "ds"
   ]
  },
  {
   "cell_type": "markdown",
   "metadata": {},
   "source": [
    "Wildcards can be used to select multiple items:"
   ]
  },
  {
   "cell_type": "code",
   "execution_count": 6,
   "metadata": {},
   "outputs": [
    {
     "data": {
      "text/plain": [
       "<mikeio.Dataset>\n",
       "dims: (time:2017)\n",
       "time: 2018-03-04 00:00:00 - 2018-03-11 00:00:00 (2017 records)\n",
       "geometry: GeometryUndefined()\n",
       "items:\n",
       "  0:  Viken: Surface elevation <Surface Elevation> (meter)\n",
       "  1:  Hornbæk: Surface elevation <Surface Elevation> (meter)\n",
       "  2:  Drogden: Surface elevation <Surface Elevation> (meter)\n",
       "  3:  Klagshamn: Surface elevation <Surface Elevation> (meter)"
      ]
     },
     "execution_count": 6,
     "metadata": {},
     "output_type": "execute_result"
    }
   ],
   "source": [
    "ds = mikeio.read(\"data/Oresund_ts.dfs0\", items=\"*Surf*\")\n",
    "ds"
   ]
  },
  {
   "cell_type": "markdown",
   "metadata": {},
   "source": [
    "A specific time subset can be selected by index (or sel method) or already upon read: "
   ]
  },
  {
   "cell_type": "code",
   "execution_count": 7,
   "metadata": {},
   "outputs": [
    {
     "data": {
      "text/plain": [
       "<mikeio.Dataset>\n",
       "dims: (time:288)\n",
       "time: 2018-03-04 00:00:00 - 2018-03-04 23:55:00 (288 records)\n",
       "geometry: GeometryUndefined()\n",
       "items:\n",
       "  0:  Viken: Surface elevation <Surface Elevation> (meter)\n",
       "  1:  Hornbæk: Surface elevation <Surface Elevation> (meter)\n",
       "  2:  Drogden: Surface elevation <Surface Elevation> (meter)\n",
       "  3:  Klagshamn: Surface elevation <Surface Elevation> (meter)"
      ]
     },
     "execution_count": 7,
     "metadata": {},
     "output_type": "execute_result"
    }
   ],
   "source": [
    "ds[\"2018-03-04\"]  # or ds.sel(time=\"2018-03-04\")"
   ]
  },
  {
   "cell_type": "code",
   "execution_count": 8,
   "metadata": {},
   "outputs": [
    {
     "data": {
      "text/plain": [
       "<mikeio.Dataset>\n",
       "dims: (time:288)\n",
       "time: 2018-03-04 00:00:00 - 2018-03-04 23:55:00 (288 records)\n",
       "geometry: GeometryUndefined()\n",
       "items:\n",
       "  0:  Viken: Surface elevation <Surface Elevation> (meter)\n",
       "  1:  Hornbæk: Surface elevation <Surface Elevation> (meter)\n",
       "  2:  Drogden: Surface elevation <Surface Elevation> (meter)\n",
       "  3:  Klagshamn: Surface elevation <Surface Elevation> (meter)"
      ]
     },
     "execution_count": 8,
     "metadata": {},
     "output_type": "execute_result"
    }
   ],
   "source": [
    "ds = mikeio.read(\"data/Oresund_ts.dfs0\", items=\"*Surf*\", time=\"2018-03-04\")\n",
    "ds"
   ]
  },
  {
   "cell_type": "markdown",
   "metadata": {},
   "source": [
    "The Dataset and DataArray have a number of useful attributes like `time`, `items`, `ndims`, `shape`, `values` (only DataArray) etc"
   ]
  },
  {
   "cell_type": "code",
   "execution_count": 9,
   "metadata": {},
   "outputs": [
    {
     "data": {
      "text/plain": [
       "DatetimeIndex(['2018-03-04 00:00:00', '2018-03-04 00:05:00',\n",
       "               '2018-03-04 00:10:00', '2018-03-04 00:15:00',\n",
       "               '2018-03-04 00:20:00', '2018-03-04 00:25:00',\n",
       "               '2018-03-04 00:30:00', '2018-03-04 00:35:00',\n",
       "               '2018-03-04 00:40:00', '2018-03-04 00:45:00',\n",
       "               ...\n",
       "               '2018-03-04 23:10:00', '2018-03-04 23:15:00',\n",
       "               '2018-03-04 23:20:00', '2018-03-04 23:25:00',\n",
       "               '2018-03-04 23:30:00', '2018-03-04 23:35:00',\n",
       "               '2018-03-04 23:40:00', '2018-03-04 23:45:00',\n",
       "               '2018-03-04 23:50:00', '2018-03-04 23:55:00'],\n",
       "              dtype='datetime64[ns]', length=288, freq=None)"
      ]
     },
     "execution_count": 9,
     "metadata": {},
     "output_type": "execute_result"
    }
   ],
   "source": [
    "ds.time"
   ]
  },
  {
   "cell_type": "code",
   "execution_count": 10,
   "metadata": {},
   "outputs": [
    {
     "data": {
      "text/plain": [
       "[Viken: Surface elevation <Surface Elevation> (meter),\n",
       " Hornbæk: Surface elevation <Surface Elevation> (meter),\n",
       " Drogden: Surface elevation <Surface Elevation> (meter),\n",
       " Klagshamn: Surface elevation <Surface Elevation> (meter)]"
      ]
     },
     "execution_count": 10,
     "metadata": {},
     "output_type": "execute_result"
    }
   ],
   "source": [
    "ds.items"
   ]
  },
  {
   "cell_type": "code",
   "execution_count": 11,
   "metadata": {},
   "outputs": [
    {
     "data": {
      "text/plain": [
       "Drogden: Surface elevation <Surface Elevation> (meter)"
      ]
     },
     "execution_count": 11,
     "metadata": {},
     "output_type": "execute_result"
    }
   ],
   "source": [
    "da.item"
   ]
  },
  {
   "cell_type": "code",
   "execution_count": 12,
   "metadata": {},
   "outputs": [
    {
     "data": {
      "text/plain": [
       "(2017,)"
      ]
     },
     "execution_count": 12,
     "metadata": {},
     "output_type": "execute_result"
    }
   ],
   "source": [
    "da.shape"
   ]
  },
  {
   "cell_type": "code",
   "execution_count": 13,
   "metadata": {},
   "outputs": [
    {
     "data": {
      "text/plain": [
       "array([0.05062908, 0.04713159, 0.04382962, ..., 0.23521478, 0.23782268,\n",
       "       0.24038477])"
      ]
     },
     "execution_count": 13,
     "metadata": {},
     "output_type": "execute_result"
    }
   ],
   "source": [
    "da.values"
   ]
  },
  {
   "cell_type": "markdown",
   "metadata": {},
   "source": [
    "The time series can be plotted with the plot method."
   ]
  },
  {
   "cell_type": "code",
   "execution_count": 14,
   "metadata": {},
   "outputs": [
    {
     "data": {
      "image/png": "[encoded data removed]",
      "text/plain": [
       "<Figure size 640x480 with 1 Axes>"
      ]
     },
     "metadata": {},
     "output_type": "display_data"
    }
   ],
   "source": [
    "ds.plot();"
   ]
  },
  {
   "cell_type": "markdown",
   "metadata": {},
   "source": [
    "A simple timeseries Dataset can easily be converted to a Pandas DataFrame."
   ]
  },
  {
   "cell_type": "code",
   "execution_count": 15,
   "metadata": {},
   "outputs": [
    {
     "data": {
      "text/html": [
       "<div>\n",
       "<style scoped>\n",
       "    .dataframe tbody tr th:only-of-type {\n",
       "        vertical-align: middle;\n",
       "    }\n",
       "\n",
       "    .dataframe tbody tr th {\n",
       "        vertical-align: top;\n",
       "    }\n",
       "\n",
       "    .dataframe thead th {\n",
       "        text-align: right;\n",
       "    }\n",
       "</style>\n",
       "<table border=\"1\" class=\"dataframe\">\n",
       "  <thead>\n",
       "    <tr style=\"text-align: right;\">\n",
       "      <th></th>\n",
       "      <th>Viken: Surface elevation</th>\n",
       "      <th>Hornbæk: Surface elevation</th>\n",
       "      <th>Drogden: Surface elevation</th>\n",
       "      <th>Klagshamn: Surface elevation</th>\n",
       "    </tr>\n",
       "  </thead>\n",
       "  <tbody>\n",
       "    <tr>\n",
       "      <th>2018-03-04 00:00:00</th>\n",
       "      <td>0.268416</td>\n",
       "      <td>0.279761</td>\n",
       "      <td>0.050629</td>\n",
       "      <td>0.018723</td>\n",
       "    </tr>\n",
       "    <tr>\n",
       "      <th>2018-03-04 00:05:00</th>\n",
       "      <td>0.265478</td>\n",
       "      <td>0.276792</td>\n",
       "      <td>0.047132</td>\n",
       "      <td>0.014833</td>\n",
       "    </tr>\n",
       "    <tr>\n",
       "      <th>2018-03-04 00:10:00</th>\n",
       "      <td>0.262521</td>\n",
       "      <td>0.273909</td>\n",
       "      <td>0.043830</td>\n",
       "      <td>0.011230</td>\n",
       "    </tr>\n",
       "    <tr>\n",
       "      <th>2018-03-04 00:15:00</th>\n",
       "      <td>0.259481</td>\n",
       "      <td>0.270935</td>\n",
       "      <td>0.040655</td>\n",
       "      <td>0.007876</td>\n",
       "    </tr>\n",
       "    <tr>\n",
       "      <th>2018-03-04 00:20:00</th>\n",
       "      <td>0.256348</td>\n",
       "      <td>0.267858</td>\n",
       "      <td>0.037621</td>\n",
       "      <td>0.004712</td>\n",
       "    </tr>\n",
       "    <tr>\n",
       "      <th>...</th>\n",
       "      <td>...</td>\n",
       "      <td>...</td>\n",
       "      <td>...</td>\n",
       "      <td>...</td>\n",
       "    </tr>\n",
       "    <tr>\n",
       "      <th>2018-03-04 23:35:00</th>\n",
       "      <td>0.232721</td>\n",
       "      <td>0.237954</td>\n",
       "      <td>0.099927</td>\n",
       "      <td>0.076122</td>\n",
       "    </tr>\n",
       "    <tr>\n",
       "      <th>2018-03-04 23:40:00</th>\n",
       "      <td>0.229933</td>\n",
       "      <td>0.235055</td>\n",
       "      <td>0.098214</td>\n",
       "      <td>0.073399</td>\n",
       "    </tr>\n",
       "    <tr>\n",
       "      <th>2018-03-04 23:45:00</th>\n",
       "      <td>0.227105</td>\n",
       "      <td>0.232199</td>\n",
       "      <td>0.096391</td>\n",
       "      <td>0.070642</td>\n",
       "    </tr>\n",
       "    <tr>\n",
       "      <th>2018-03-04 23:50:00</th>\n",
       "      <td>0.224168</td>\n",
       "      <td>0.229341</td>\n",
       "      <td>0.094460</td>\n",
       "      <td>0.067864</td>\n",
       "    </tr>\n",
       "    <tr>\n",
       "      <th>2018-03-04 23:55:00</th>\n",
       "      <td>0.221046</td>\n",
       "      <td>0.226392</td>\n",
       "      <td>0.092474</td>\n",
       "      <td>0.065087</td>\n",
       "    </tr>\n",
       "  </tbody>\n",
       "</table>\n",
       "<p>288 rows × 4 columns</p>\n",
       "</div>"
      ],
      "text/plain": [
       "                     Viken: Surface elevation  Hornbæk: Surface elevation  \\\n",
       "2018-03-04 00:00:00                  0.268416                    0.279761   \n",
       "2018-03-04 00:05:00                  0.265478                    0.276792   \n",
       "2018-03-04 00:10:00                  0.262521                    0.273909   \n",
       "2018-03-04 00:15:00                  0.259481                    0.270935   \n",
       "2018-03-04 00:20:00                  0.256348                    0.267858   \n",
       "...                                       ...                         ...   \n",
       "2018-03-04 23:35:00                  0.232721                    0.237954   \n",
       "2018-03-04 23:40:00                  0.229933                    0.235055   \n",
       "2018-03-04 23:45:00                  0.227105                    0.232199   \n",
       "2018-03-04 23:50:00                  0.224168                    0.229341   \n",
       "2018-03-04 23:55:00                  0.221046                    0.226392   \n",
       "\n",
       "                     Drogden: Surface elevation  Klagshamn: Surface elevation  \n",
       "2018-03-04 00:00:00                    0.050629                      0.018723  \n",
       "2018-03-04 00:05:00                    0.047132                      0.014833  \n",
       "2018-03-04 00:10:00                    0.043830                      0.011230  \n",
       "2018-03-04 00:15:00                    0.040655                      0.007876  \n",
       "2018-03-04 00:20:00                    0.037621                      0.004712  \n",
       "...                                         ...                           ...  \n",
       "2018-03-04 23:35:00                    0.099927                      0.076122  \n",
       "2018-03-04 23:40:00                    0.098214                      0.073399  \n",
       "2018-03-04 23:45:00                    0.096391                      0.070642  \n",
       "2018-03-04 23:50:00                    0.094460                      0.067864  \n",
       "2018-03-04 23:55:00                    0.092474                      0.065087  \n",
       "\n",
       "[288 rows x 4 columns]"
      ]
     },
     "execution_count": 15,
     "metadata": {},
     "output_type": "execute_result"
    }
   ],
   "source": [
    "df = ds.to_pandas() # convert dataset to dataframe\n",
    "df"
   ]
  },
  {
   "cell_type": "markdown",
   "metadata": {},
   "source": [
    "## Writing data\n",
    "\n",
    "Often, time series data will come from a csv or an Excel file. Here is an example of how to read a csv file with pandas and then write the pandas DataFrame to a dfs0 file."
   ]
  },
  {
   "cell_type": "code",
   "execution_count": 16,
   "metadata": {},
   "outputs": [
    {
     "data": {
      "text/html": [
       "<div>\n",
       "<style scoped>\n",
       "    .dataframe tbody tr th:only-of-type {\n",
       "        vertical-align: middle;\n",
       "    }\n",
       "\n",
       "    .dataframe tbody tr th {\n",
       "        vertical-align: top;\n",
       "    }\n",
       "\n",
       "    .dataframe thead th {\n",
       "        text-align: right;\n",
       "    }\n",
       "</style>\n",
       "<table border=\"1\" class=\"dataframe\">\n",
       "  <thead>\n",
       "    <tr style=\"text-align: right;\">\n",
       "      <th></th>\n",
       "      <th>TAVG (Degrees Fahrenheit)</th>\n",
       "      <th>TMAX (Degrees Fahrenheit)</th>\n",
       "      <th>TMIN (Degrees Fahrenheit)</th>\n",
       "      <th>PRCP (Inches)</th>\n",
       "      <th>SNOW (Inches)</th>\n",
       "      <th>SNWD (Inches)</th>\n",
       "    </tr>\n",
       "    <tr>\n",
       "      <th>Date</th>\n",
       "      <th></th>\n",
       "      <th></th>\n",
       "      <th></th>\n",
       "      <th></th>\n",
       "      <th></th>\n",
       "      <th></th>\n",
       "    </tr>\n",
       "  </thead>\n",
       "  <tbody>\n",
       "    <tr>\n",
       "      <th>2002-03-01</th>\n",
       "      <td>67.0</td>\n",
       "      <td>78.0</td>\n",
       "      <td>56.0</td>\n",
       "      <td>0.00</td>\n",
       "      <td>NaN</td>\n",
       "      <td>NaN</td>\n",
       "    </tr>\n",
       "    <tr>\n",
       "      <th>2002-03-02</th>\n",
       "      <td>76.0</td>\n",
       "      <td>83.0</td>\n",
       "      <td>69.0</td>\n",
       "      <td>0.00</td>\n",
       "      <td>NaN</td>\n",
       "      <td>NaN</td>\n",
       "    </tr>\n",
       "    <tr>\n",
       "      <th>2002-03-03</th>\n",
       "      <td>78.0</td>\n",
       "      <td>84.0</td>\n",
       "      <td>71.0</td>\n",
       "      <td>0.00</td>\n",
       "      <td>NaN</td>\n",
       "      <td>NaN</td>\n",
       "    </tr>\n",
       "    <tr>\n",
       "      <th>2002-03-04</th>\n",
       "      <td>64.0</td>\n",
       "      <td>76.0</td>\n",
       "      <td>51.0</td>\n",
       "      <td>0.08</td>\n",
       "      <td>NaN</td>\n",
       "      <td>NaN</td>\n",
       "    </tr>\n",
       "    <tr>\n",
       "      <th>2002-03-05</th>\n",
       "      <td>58.0</td>\n",
       "      <td>70.0</td>\n",
       "      <td>45.0</td>\n",
       "      <td>0.00</td>\n",
       "      <td>NaN</td>\n",
       "      <td>NaN</td>\n",
       "    </tr>\n",
       "    <tr>\n",
       "      <th>...</th>\n",
       "      <td>...</td>\n",
       "      <td>...</td>\n",
       "      <td>...</td>\n",
       "      <td>...</td>\n",
       "      <td>...</td>\n",
       "      <td>...</td>\n",
       "    </tr>\n",
       "    <tr>\n",
       "      <th>2021-08-11</th>\n",
       "      <td>NaN</td>\n",
       "      <td>93.0</td>\n",
       "      <td>77.0</td>\n",
       "      <td>0.23</td>\n",
       "      <td>NaN</td>\n",
       "      <td>NaN</td>\n",
       "    </tr>\n",
       "    <tr>\n",
       "      <th>2021-08-12</th>\n",
       "      <td>NaN</td>\n",
       "      <td>94.0</td>\n",
       "      <td>77.0</td>\n",
       "      <td>0.00</td>\n",
       "      <td>0.0</td>\n",
       "      <td>0.0</td>\n",
       "    </tr>\n",
       "    <tr>\n",
       "      <th>2021-08-13</th>\n",
       "      <td>NaN</td>\n",
       "      <td>95.0</td>\n",
       "      <td>77.0</td>\n",
       "      <td>0.03</td>\n",
       "      <td>0.0</td>\n",
       "      <td>0.0</td>\n",
       "    </tr>\n",
       "    <tr>\n",
       "      <th>2021-08-14</th>\n",
       "      <td>NaN</td>\n",
       "      <td>85.0</td>\n",
       "      <td>74.0</td>\n",
       "      <td>0.05</td>\n",
       "      <td>0.0</td>\n",
       "      <td>0.0</td>\n",
       "    </tr>\n",
       "    <tr>\n",
       "      <th>2021-08-15</th>\n",
       "      <td>NaN</td>\n",
       "      <td>83.0</td>\n",
       "      <td>75.0</td>\n",
       "      <td>0.01</td>\n",
       "      <td>0.0</td>\n",
       "      <td>0.0</td>\n",
       "    </tr>\n",
       "  </tbody>\n",
       "</table>\n",
       "<p>7108 rows × 6 columns</p>\n",
       "</div>"
      ],
      "text/plain": [
       "            TAVG (Degrees Fahrenheit)  TMAX (Degrees Fahrenheit)  \\\n",
       "Date                                                               \n",
       "2002-03-01                       67.0                       78.0   \n",
       "2002-03-02                       76.0                       83.0   \n",
       "2002-03-03                       78.0                       84.0   \n",
       "2002-03-04                       64.0                       76.0   \n",
       "2002-03-05                       58.0                       70.0   \n",
       "...                               ...                        ...   \n",
       "2021-08-11                        NaN                       93.0   \n",
       "2021-08-12                        NaN                       94.0   \n",
       "2021-08-13                        NaN                       95.0   \n",
       "2021-08-14                        NaN                       85.0   \n",
       "2021-08-15                        NaN                       83.0   \n",
       "\n",
       "            TMIN (Degrees Fahrenheit)  PRCP (Inches)  SNOW (Inches)  \\\n",
       "Date                                                                  \n",
       "2002-03-01                       56.0           0.00            NaN   \n",
       "2002-03-02                       69.0           0.00            NaN   \n",
       "2002-03-03                       71.0           0.00            NaN   \n",
       "2002-03-04                       51.0           0.08            NaN   \n",
       "2002-03-05                       45.0           0.00            NaN   \n",
       "...                               ...            ...            ...   \n",
       "2021-08-11                       77.0           0.23            NaN   \n",
       "2021-08-12                       77.0           0.00            0.0   \n",
       "2021-08-13                       77.0           0.03            0.0   \n",
       "2021-08-14                       74.0           0.05            0.0   \n",
       "2021-08-15                       75.0           0.01            0.0   \n",
       "\n",
       "            SNWD (Inches)  \n",
       "Date                       \n",
       "2002-03-01            NaN  \n",
       "2002-03-02            NaN  \n",
       "2002-03-03            NaN  \n",
       "2002-03-04            NaN  \n",
       "2002-03-05            NaN  \n",
       "...                   ...  \n",
       "2021-08-11            NaN  \n",
       "2021-08-12            0.0  \n",
       "2021-08-13            0.0  \n",
       "2021-08-14            0.0  \n",
       "2021-08-15            0.0  \n",
       "\n",
       "[7108 rows x 6 columns]"
      ]
     },
     "execution_count": 16,
     "metadata": {},
     "output_type": "execute_result"
    }
   ],
   "source": [
    "df = pd.read_csv(\"data/naples_fl.csv\", skiprows=1, parse_dates=True, index_col=0)\n",
    "df"
   ]
  },
  {
   "cell_type": "markdown",
   "metadata": {},
   "source": [
    "You will probably have the need to parse certain a specific data formats many times, then it is a good idea to create a function."
   ]
  },
  {
   "cell_type": "code",
   "execution_count": 17,
   "metadata": {},
   "outputs": [],
   "source": [
    "def read_ncei_obs(filename):\n",
    "    # old name : new name\n",
    "    mapping = {'TAVG (Degrees Fahrenheit)': 'temperature_avg_f',\n",
    "               'TMAX (Degrees Fahrenheit)': 'temperature_max_f',\n",
    "               'TMIN (Degrees Fahrenheit)': 'temperature_min_f',\n",
    "               'PRCP (Inches)': 'prec_in'}\n",
    "    \n",
    "    sel_cols = mapping.values() # No need to repeat ['temperature_avg_f',...]\n",
    "    df = (\n",
    "        pd.read_csv(filename, skiprows=1, parse_dates=True, index_col=0)\n",
    "           .rename(columns=mapping)\n",
    "    )[sel_cols]\n",
    "    return df"
   ]
  },
  {
   "cell_type": "code",
   "execution_count": 18,
   "metadata": {},
   "outputs": [
    {
     "data": {
      "text/html": [
       "<div>\n",
       "<style scoped>\n",
       "    .dataframe tbody tr th:only-of-type {\n",
       "        vertical-align: middle;\n",
       "    }\n",
       "\n",
       "    .dataframe tbody tr th {\n",
       "        vertical-align: top;\n",
       "    }\n",
       "\n",
       "    .dataframe thead th {\n",
       "        text-align: right;\n",
       "    }\n",
       "</style>\n",
       "<table border=\"1\" class=\"dataframe\">\n",
       "  <thead>\n",
       "    <tr style=\"text-align: right;\">\n",
       "      <th></th>\n",
       "      <th>temperature_avg_f</th>\n",
       "      <th>temperature_max_f</th>\n",
       "      <th>temperature_min_f</th>\n",
       "      <th>prec_in</th>\n",
       "    </tr>\n",
       "    <tr>\n",
       "      <th>Date</th>\n",
       "      <th></th>\n",
       "      <th></th>\n",
       "      <th></th>\n",
       "      <th></th>\n",
       "    </tr>\n",
       "  </thead>\n",
       "  <tbody>\n",
       "    <tr>\n",
       "      <th>2002-03-01</th>\n",
       "      <td>67.0</td>\n",
       "      <td>78.0</td>\n",
       "      <td>56.0</td>\n",
       "      <td>0.00</td>\n",
       "    </tr>\n",
       "    <tr>\n",
       "      <th>2002-03-02</th>\n",
       "      <td>76.0</td>\n",
       "      <td>83.0</td>\n",
       "      <td>69.0</td>\n",
       "      <td>0.00</td>\n",
       "    </tr>\n",
       "    <tr>\n",
       "      <th>2002-03-03</th>\n",
       "      <td>78.0</td>\n",
       "      <td>84.0</td>\n",
       "      <td>71.0</td>\n",
       "      <td>0.00</td>\n",
       "    </tr>\n",
       "    <tr>\n",
       "      <th>2002-03-04</th>\n",
       "      <td>64.0</td>\n",
       "      <td>76.0</td>\n",
       "      <td>51.0</td>\n",
       "      <td>0.08</td>\n",
       "    </tr>\n",
       "    <tr>\n",
       "      <th>2002-03-05</th>\n",
       "      <td>58.0</td>\n",
       "      <td>70.0</td>\n",
       "      <td>45.0</td>\n",
       "      <td>0.00</td>\n",
       "    </tr>\n",
       "  </tbody>\n",
       "</table>\n",
       "</div>"
      ],
      "text/plain": [
       "            temperature_avg_f  temperature_max_f  temperature_min_f  prec_in\n",
       "Date                                                                        \n",
       "2002-03-01               67.0               78.0               56.0     0.00\n",
       "2002-03-02               76.0               83.0               69.0     0.00\n",
       "2002-03-03               78.0               84.0               71.0     0.00\n",
       "2002-03-04               64.0               76.0               51.0     0.08\n",
       "2002-03-05               58.0               70.0               45.0     0.00"
      ]
     },
     "execution_count": 18,
     "metadata": {},
     "output_type": "execute_result"
    }
   ],
   "source": [
    "df = read_ncei_obs(\"data/naples_fl.csv\")\n",
    "df.head()"
   ]
  },
  {
   "cell_type": "code",
   "execution_count": 19,
   "metadata": {},
   "outputs": [
    {
     "data": {
      "text/html": [
       "<div>\n",
       "<style scoped>\n",
       "    .dataframe tbody tr th:only-of-type {\n",
       "        vertical-align: middle;\n",
       "    }\n",
       "\n",
       "    .dataframe tbody tr th {\n",
       "        vertical-align: top;\n",
       "    }\n",
       "\n",
       "    .dataframe thead th {\n",
       "        text-align: right;\n",
       "    }\n",
       "</style>\n",
       "<table border=\"1\" class=\"dataframe\">\n",
       "  <thead>\n",
       "    <tr style=\"text-align: right;\">\n",
       "      <th></th>\n",
       "      <th>temperature_avg_f</th>\n",
       "      <th>temperature_max_f</th>\n",
       "      <th>temperature_min_f</th>\n",
       "      <th>prec_in</th>\n",
       "    </tr>\n",
       "    <tr>\n",
       "      <th>Date</th>\n",
       "      <th></th>\n",
       "      <th></th>\n",
       "      <th></th>\n",
       "      <th></th>\n",
       "    </tr>\n",
       "  </thead>\n",
       "  <tbody>\n",
       "    <tr>\n",
       "      <th>2021-08-11</th>\n",
       "      <td>NaN</td>\n",
       "      <td>93.0</td>\n",
       "      <td>77.0</td>\n",
       "      <td>0.23</td>\n",
       "    </tr>\n",
       "    <tr>\n",
       "      <th>2021-08-12</th>\n",
       "      <td>NaN</td>\n",
       "      <td>94.0</td>\n",
       "      <td>77.0</td>\n",
       "      <td>0.00</td>\n",
       "    </tr>\n",
       "    <tr>\n",
       "      <th>2021-08-13</th>\n",
       "      <td>NaN</td>\n",
       "      <td>95.0</td>\n",
       "      <td>77.0</td>\n",
       "      <td>0.03</td>\n",
       "    </tr>\n",
       "    <tr>\n",
       "      <th>2021-08-14</th>\n",
       "      <td>NaN</td>\n",
       "      <td>85.0</td>\n",
       "      <td>74.0</td>\n",
       "      <td>0.05</td>\n",
       "    </tr>\n",
       "    <tr>\n",
       "      <th>2021-08-15</th>\n",
       "      <td>NaN</td>\n",
       "      <td>83.0</td>\n",
       "      <td>75.0</td>\n",
       "      <td>0.01</td>\n",
       "    </tr>\n",
       "  </tbody>\n",
       "</table>\n",
       "</div>"
      ],
      "text/plain": [
       "            temperature_avg_f  temperature_max_f  temperature_min_f  prec_in\n",
       "Date                                                                        \n",
       "2021-08-11                NaN               93.0               77.0     0.23\n",
       "2021-08-12                NaN               94.0               77.0     0.00\n",
       "2021-08-13                NaN               95.0               77.0     0.03\n",
       "2021-08-14                NaN               85.0               74.0     0.05\n",
       "2021-08-15                NaN               83.0               75.0     0.01"
      ]
     },
     "execution_count": 19,
     "metadata": {},
     "output_type": "execute_result"
    }
   ],
   "source": [
    "df.tail()"
   ]
  },
  {
   "cell_type": "code",
   "execution_count": 20,
   "metadata": {},
   "outputs": [
    {
     "data": {
      "text/plain": [
       "(7108, 4)"
      ]
     },
     "execution_count": 20,
     "metadata": {},
     "output_type": "execute_result"
    }
   ],
   "source": [
    "df.shape"
   ]
  },
  {
   "cell_type": "markdown",
   "metadata": {},
   "source": [
    "Convert temperature to Celsius and precipitation to mm."
   ]
  },
  {
   "cell_type": "code",
   "execution_count": 21,
   "metadata": {},
   "outputs": [
    {
     "data": {
      "text/html": [
       "<div>\n",
       "<style scoped>\n",
       "    .dataframe tbody tr th:only-of-type {\n",
       "        vertical-align: middle;\n",
       "    }\n",
       "\n",
       "    .dataframe tbody tr th {\n",
       "        vertical-align: top;\n",
       "    }\n",
       "\n",
       "    .dataframe thead th {\n",
       "        text-align: right;\n",
       "    }\n",
       "</style>\n",
       "<table border=\"1\" class=\"dataframe\">\n",
       "  <thead>\n",
       "    <tr style=\"text-align: right;\">\n",
       "      <th></th>\n",
       "      <th>temperature_avg_f</th>\n",
       "      <th>temperature_max_f</th>\n",
       "      <th>temperature_min_f</th>\n",
       "      <th>prec_in</th>\n",
       "      <th>temperature_max_c</th>\n",
       "      <th>prec_mm</th>\n",
       "    </tr>\n",
       "    <tr>\n",
       "      <th>Date</th>\n",
       "      <th></th>\n",
       "      <th></th>\n",
       "      <th></th>\n",
       "      <th></th>\n",
       "      <th></th>\n",
       "      <th></th>\n",
       "    </tr>\n",
       "  </thead>\n",
       "  <tbody>\n",
       "    <tr>\n",
       "      <th>2002-03-01</th>\n",
       "      <td>67.0</td>\n",
       "      <td>78.0</td>\n",
       "      <td>56.0</td>\n",
       "      <td>0.00</td>\n",
       "      <td>25.555556</td>\n",
       "      <td>0.000</td>\n",
       "    </tr>\n",
       "    <tr>\n",
       "      <th>2002-03-02</th>\n",
       "      <td>76.0</td>\n",
       "      <td>83.0</td>\n",
       "      <td>69.0</td>\n",
       "      <td>0.00</td>\n",
       "      <td>28.333333</td>\n",
       "      <td>0.000</td>\n",
       "    </tr>\n",
       "    <tr>\n",
       "      <th>2002-03-03</th>\n",
       "      <td>78.0</td>\n",
       "      <td>84.0</td>\n",
       "      <td>71.0</td>\n",
       "      <td>0.00</td>\n",
       "      <td>28.888889</td>\n",
       "      <td>0.000</td>\n",
       "    </tr>\n",
       "    <tr>\n",
       "      <th>2002-03-04</th>\n",
       "      <td>64.0</td>\n",
       "      <td>76.0</td>\n",
       "      <td>51.0</td>\n",
       "      <td>0.08</td>\n",
       "      <td>24.444444</td>\n",
       "      <td>2.032</td>\n",
       "    </tr>\n",
       "    <tr>\n",
       "      <th>2002-03-05</th>\n",
       "      <td>58.0</td>\n",
       "      <td>70.0</td>\n",
       "      <td>45.0</td>\n",
       "      <td>0.00</td>\n",
       "      <td>21.111111</td>\n",
       "      <td>0.000</td>\n",
       "    </tr>\n",
       "  </tbody>\n",
       "</table>\n",
       "</div>"
      ],
      "text/plain": [
       "            temperature_avg_f  temperature_max_f  temperature_min_f  prec_in  \\\n",
       "Date                                                                           \n",
       "2002-03-01               67.0               78.0               56.0     0.00   \n",
       "2002-03-02               76.0               83.0               69.0     0.00   \n",
       "2002-03-03               78.0               84.0               71.0     0.00   \n",
       "2002-03-04               64.0               76.0               51.0     0.08   \n",
       "2002-03-05               58.0               70.0               45.0     0.00   \n",
       "\n",
       "            temperature_max_c  prec_mm  \n",
       "Date                                    \n",
       "2002-03-01          25.555556    0.000  \n",
       "2002-03-02          28.333333    0.000  \n",
       "2002-03-03          28.888889    0.000  \n",
       "2002-03-04          24.444444    2.032  \n",
       "2002-03-05          21.111111    0.000  "
      ]
     },
     "execution_count": 21,
     "metadata": {},
     "output_type": "execute_result"
    }
   ],
   "source": [
    "df_final = df.assign(temperature_max_c=(df['temperature_max_f'] - 32)/1.8,\n",
    "                 prec_mm=df['prec_in'] * 25.4)\n",
    "\n",
    "df_final.head()"
   ]
  },
  {
   "cell_type": "code",
   "execution_count": 22,
   "metadata": {},
   "outputs": [
    {
     "data": {
      "image/png": "[encoded data removed]",
      "text/plain": [
       "<Figure size 640x480 with 1 Axes>"
      ]
     },
     "metadata": {},
     "output_type": "display_data"
    }
   ],
   "source": [
    "df_final.loc['2021'].plot();"
   ]
  },
  {
   "cell_type": "markdown",
   "metadata": {},
   "source": [
    "Creating a dfs0 file from a dataframe is pretty straightforward.\n",
    "\n",
    "1. Convert the dataframe to a `Dataset`"
   ]
  },
  {
   "cell_type": "code",
   "execution_count": 23,
   "metadata": {},
   "outputs": [
    {
     "data": {
      "text/plain": [
       "<mikeio.Dataset>\n",
       "dims: (time:7108)\n",
       "time: 2002-03-01 00:00:00 - 2021-08-15 00:00:00 (7108 records)\n",
       "geometry: GeometryUndefined()\n",
       "items:\n",
       "  0:  temperature_avg_f <Undefined> (undefined)\n",
       "  1:  temperature_max_f <Undefined> (undefined)\n",
       "  2:  temperature_min_f <Undefined> (undefined)\n",
       "  3:  prec_in <Undefined> (undefined)\n",
       "  4:  temperature_max_c <Undefined> (undefined)\n",
       "  5:  prec_mm <Undefined> (undefined)"
      ]
     },
     "execution_count": 23,
     "metadata": {},
     "output_type": "execute_result"
    }
   ],
   "source": [
    "ds = mikeio.from_pandas(df_final)\n",
    "ds"
   ]
  },
  {
   "cell_type": "markdown",
   "metadata": {},
   "source": [
    "2. Write the `Dataset` to a dfs0 file."
   ]
  },
  {
   "cell_type": "code",
   "execution_count": 24,
   "metadata": {},
   "outputs": [],
   "source": [
    "ds.to_dfs(\"output/naples_fl.dfs0\")"
   ]
  },
  {
   "cell_type": "markdown",
   "metadata": {},
   "source": [
    "Let's read it back in again..."
   ]
  },
  {
   "cell_type": "code",
   "execution_count": 25,
   "metadata": {},
   "outputs": [
    {
     "data": {
      "text/plain": [
       "<mikeio.Dataset>\n",
       "dims: (time:7108)\n",
       "time: 2002-03-01 00:00:00 - 2021-08-15 00:00:00 (7108 records)\n",
       "geometry: GeometryUndefined()\n",
       "items:\n",
       "  0:  temperature_avg_f <Undefined> (undefined)\n",
       "  1:  temperature_max_f <Undefined> (undefined)\n",
       "  2:  temperature_min_f <Undefined> (undefined)\n",
       "  3:  prec_in <Undefined> (undefined)\n",
       "  4:  temperature_max_c <Undefined> (undefined)\n",
       "  5:  prec_mm <Undefined> (undefined)"
      ]
     },
     "execution_count": 25,
     "metadata": {},
     "output_type": "execute_result"
    }
   ],
   "source": [
    "saved_ds = mikeio.read(\"output/naples_fl.dfs0\")\n",
    "saved_ds"
   ]
  },
  {
   "cell_type": "markdown",
   "metadata": {},
   "source": [
    "By default, EUM types are undefined. But it can be specified. Let's select a few colums."
   ]
  },
  {
   "cell_type": "code",
   "execution_count": 26,
   "metadata": {},
   "outputs": [
    {
     "data": {
      "text/html": [
       "<div>\n",
       "<style scoped>\n",
       "    .dataframe tbody tr th:only-of-type {\n",
       "        vertical-align: middle;\n",
       "    }\n",
       "\n",
       "    .dataframe tbody tr th {\n",
       "        vertical-align: top;\n",
       "    }\n",
       "\n",
       "    .dataframe thead th {\n",
       "        text-align: right;\n",
       "    }\n",
       "</style>\n",
       "<table border=\"1\" class=\"dataframe\">\n",
       "  <thead>\n",
       "    <tr style=\"text-align: right;\">\n",
       "      <th></th>\n",
       "      <th>temperature_max_c</th>\n",
       "      <th>prec_in</th>\n",
       "    </tr>\n",
       "    <tr>\n",
       "      <th>Date</th>\n",
       "      <th></th>\n",
       "      <th></th>\n",
       "    </tr>\n",
       "  </thead>\n",
       "  <tbody>\n",
       "    <tr>\n",
       "      <th>2002-03-01</th>\n",
       "      <td>25.555556</td>\n",
       "      <td>0.00</td>\n",
       "    </tr>\n",
       "    <tr>\n",
       "      <th>2002-03-02</th>\n",
       "      <td>28.333333</td>\n",
       "      <td>0.00</td>\n",
       "    </tr>\n",
       "    <tr>\n",
       "      <th>2002-03-03</th>\n",
       "      <td>28.888889</td>\n",
       "      <td>0.00</td>\n",
       "    </tr>\n",
       "    <tr>\n",
       "      <th>2002-03-04</th>\n",
       "      <td>24.444444</td>\n",
       "      <td>0.08</td>\n",
       "    </tr>\n",
       "    <tr>\n",
       "      <th>2002-03-05</th>\n",
       "      <td>21.111111</td>\n",
       "      <td>0.00</td>\n",
       "    </tr>\n",
       "  </tbody>\n",
       "</table>\n",
       "</div>"
      ],
      "text/plain": [
       "            temperature_max_c  prec_in\n",
       "Date                                  \n",
       "2002-03-01          25.555556     0.00\n",
       "2002-03-02          28.333333     0.00\n",
       "2002-03-03          28.888889     0.00\n",
       "2002-03-04          24.444444     0.08\n",
       "2002-03-05          21.111111     0.00"
      ]
     },
     "execution_count": 26,
     "metadata": {},
     "output_type": "execute_result"
    }
   ],
   "source": [
    "df2 = df_final[['temperature_max_c', 'prec_in']]\n",
    "df2.head()"
   ]
  },
  {
   "cell_type": "code",
   "execution_count": 27,
   "metadata": {},
   "outputs": [
    {
     "data": {
      "text/plain": [
       "<mikeio.Dataset>\n",
       "dims: (time:7108)\n",
       "time: 2002-03-01 00:00:00 - 2021-08-15 00:00:00 (7108 records)\n",
       "geometry: GeometryUndefined()\n",
       "items:\n",
       "  0:  temperature_max_c <Temperature> (degree Celsius)\n",
       "  1:  prec_in <Precipitation Rate> (inch per day)"
      ]
     },
     "execution_count": 27,
     "metadata": {},
     "output_type": "execute_result"
    }
   ],
   "source": [
    "from mikeio import ItemInfo, EUMType, EUMUnit\n",
    "\n",
    "ds2 = mikeio.from_pandas(df2, \n",
    "                         items=[\n",
    "                   ItemInfo(EUMType.Temperature),\n",
    "                   ItemInfo(EUMType.Precipitation_Rate, EUMUnit.inch_per_day)]\n",
    "           )\n",
    "ds2"
   ]
  },
  {
   "cell_type": "markdown",
   "metadata": {},
   "source": [
    "## EUM"
   ]
  },
  {
   "cell_type": "code",
   "execution_count": 28,
   "metadata": {},
   "outputs": [
    {
     "data": {
      "text/plain": [
       "[Wind Velocity,\n",
       " Wind Direction,\n",
       " Wind friction factor,\n",
       " Wind speed,\n",
       " Depth of Wind,\n",
       " Wind friction speed]"
      ]
     },
     "execution_count": 28,
     "metadata": {},
     "output_type": "execute_result"
    }
   ],
   "source": [
    "from mikeio.eum import ItemInfo, EUMType, EUMUnit\n",
    "\n",
    "EUMType.search(\"wind\")\n"
   ]
  },
  {
   "cell_type": "code",
   "execution_count": 29,
   "metadata": {},
   "outputs": [
    {
     "data": {
      "text/plain": [
       "[meter per sec, feet per sec, knot, km per hour, miles per hour]"
      ]
     },
     "execution_count": 29,
     "metadata": {},
     "output_type": "execute_result"
    }
   ],
   "source": [
    "EUMType.Wind_speed.units"
   ]
  },
  {
   "cell_type": "markdown",
   "metadata": {},
   "source": [
    "### Inline Exercise\n",
    "\n",
    "What is the best EUM Type for \"peak wave direction\"? What is the default unit? "
   ]
  },
  {
   "cell_type": "code",
   "execution_count": 30,
   "metadata": {},
   "outputs": [],
   "source": [
    "# insert your code here"
   ]
  },
  {
   "cell_type": "markdown",
   "metadata": {},
   "source": [
    "## Precipitation data"
   ]
  },
  {
   "cell_type": "code",
   "execution_count": 31,
   "metadata": {},
   "outputs": [
    {
     "data": {
      "text/html": [
       "<div>\n",
       "<style scoped>\n",
       "    .dataframe tbody tr th:only-of-type {\n",
       "        vertical-align: middle;\n",
       "    }\n",
       "\n",
       "    .dataframe tbody tr th {\n",
       "        vertical-align: top;\n",
       "    }\n",
       "\n",
       "    .dataframe thead th {\n",
       "        text-align: right;\n",
       "    }\n",
       "</style>\n",
       "<table border=\"1\" class=\"dataframe\">\n",
       "  <thead>\n",
       "    <tr style=\"text-align: right;\">\n",
       "      <th></th>\n",
       "      <th>Precipitation station 1</th>\n",
       "      <th>Precipitation station 2</th>\n",
       "      <th>Precipitation station 3</th>\n",
       "      <th>Precipitation station 4</th>\n",
       "      <th>Precipitation station 5</th>\n",
       "      <th>Precipitation station 6</th>\n",
       "      <th>Precipitation station 7</th>\n",
       "      <th>Precipitation station 8</th>\n",
       "      <th>Precipitation station 9</th>\n",
       "    </tr>\n",
       "    <tr>\n",
       "      <th>date</th>\n",
       "      <th></th>\n",
       "      <th></th>\n",
       "      <th></th>\n",
       "      <th></th>\n",
       "      <th></th>\n",
       "      <th></th>\n",
       "      <th></th>\n",
       "      <th></th>\n",
       "      <th></th>\n",
       "    </tr>\n",
       "  </thead>\n",
       "  <tbody>\n",
       "    <tr>\n",
       "      <th>2001-01-01</th>\n",
       "      <td>0.0</td>\n",
       "      <td>0.000</td>\n",
       "      <td>0.021</td>\n",
       "      <td>0.071</td>\n",
       "      <td>0.000</td>\n",
       "      <td>0.000</td>\n",
       "      <td>0.025</td>\n",
       "      <td>0.025</td>\n",
       "      <td>0.000</td>\n",
       "    </tr>\n",
       "    <tr>\n",
       "      <th>2001-01-02</th>\n",
       "      <td>0.0</td>\n",
       "      <td>0.025</td>\n",
       "      <td>0.037</td>\n",
       "      <td>0.000</td>\n",
       "      <td>0.004</td>\n",
       "      <td>0.054</td>\n",
       "      <td>0.042</td>\n",
       "      <td>0.021</td>\n",
       "      <td>0.054</td>\n",
       "    </tr>\n",
       "    <tr>\n",
       "      <th>2001-01-03</th>\n",
       "      <td>0.0</td>\n",
       "      <td>0.000</td>\n",
       "      <td>0.000</td>\n",
       "      <td>0.000</td>\n",
       "      <td>0.000</td>\n",
       "      <td>0.000</td>\n",
       "      <td>0.000</td>\n",
       "      <td>0.042</td>\n",
       "      <td>0.000</td>\n",
       "    </tr>\n",
       "    <tr>\n",
       "      <th>2001-01-04</th>\n",
       "      <td>0.0</td>\n",
       "      <td>0.000</td>\n",
       "      <td>0.000</td>\n",
       "      <td>0.000</td>\n",
       "      <td>0.000</td>\n",
       "      <td>0.000</td>\n",
       "      <td>0.000</td>\n",
       "      <td>0.000</td>\n",
       "      <td>0.000</td>\n",
       "    </tr>\n",
       "    <tr>\n",
       "      <th>2001-01-05</th>\n",
       "      <td>0.0</td>\n",
       "      <td>0.000</td>\n",
       "      <td>0.158</td>\n",
       "      <td>0.021</td>\n",
       "      <td>0.000</td>\n",
       "      <td>0.000</td>\n",
       "      <td>0.017</td>\n",
       "      <td>0.021</td>\n",
       "      <td>0.000</td>\n",
       "    </tr>\n",
       "  </tbody>\n",
       "</table>\n",
       "</div>"
      ],
      "text/plain": [
       "            Precipitation station 1  Precipitation station 2  \\\n",
       "date                                                           \n",
       "2001-01-01                      0.0                    0.000   \n",
       "2001-01-02                      0.0                    0.025   \n",
       "2001-01-03                      0.0                    0.000   \n",
       "2001-01-04                      0.0                    0.000   \n",
       "2001-01-05                      0.0                    0.000   \n",
       "\n",
       "            Precipitation station 3  Precipitation station 4  \\\n",
       "date                                                           \n",
       "2001-01-01                    0.021                    0.071   \n",
       "2001-01-02                    0.037                    0.000   \n",
       "2001-01-03                    0.000                    0.000   \n",
       "2001-01-04                    0.000                    0.000   \n",
       "2001-01-05                    0.158                    0.021   \n",
       "\n",
       "            Precipitation station 5  Precipitation station 6  \\\n",
       "date                                                           \n",
       "2001-01-01                    0.000                    0.000   \n",
       "2001-01-02                    0.004                    0.054   \n",
       "2001-01-03                    0.000                    0.000   \n",
       "2001-01-04                    0.000                    0.000   \n",
       "2001-01-05                    0.000                    0.000   \n",
       "\n",
       "            Precipitation station 7  Precipitation station 8  \\\n",
       "date                                                           \n",
       "2001-01-01                    0.025                    0.025   \n",
       "2001-01-02                    0.042                    0.021   \n",
       "2001-01-03                    0.000                    0.042   \n",
       "2001-01-04                    0.000                    0.000   \n",
       "2001-01-05                    0.017                    0.021   \n",
       "\n",
       "            Precipitation station 9  \n",
       "date                                 \n",
       "2001-01-01                    0.000  \n",
       "2001-01-02                    0.054  \n",
       "2001-01-03                    0.000  \n",
       "2001-01-04                    0.000  \n",
       "2001-01-05                    0.000  "
      ]
     },
     "execution_count": 31,
     "metadata": {},
     "output_type": "execute_result"
    }
   ],
   "source": [
    "df = pd.read_csv(\"data/precipitation.csv\", parse_dates=True, index_col=0)\n",
    "df.head()"
   ]
  },
  {
   "cell_type": "code",
   "execution_count": 32,
   "metadata": {},
   "outputs": [],
   "source": [
    "from mikecore.DfsFile import DataValueType\n",
    "\n",
    "(mikeio.from_pandas(df, items=ItemInfo(EUMType.Precipitation_Rate, EUMUnit.mm_per_hour, data_value_type=DataValueType.MeanStepBackward))\n",
    "        .to_dfs(\"output/precipitation.dfs0\")\n",
    ")\n"
   ]
  },
  {
   "cell_type": "markdown",
   "metadata": {},
   "source": [
    "## Selecting "
   ]
  },
  {
   "cell_type": "code",
   "execution_count": 33,
   "metadata": {},
   "outputs": [
    {
     "data": {
      "text/plain": [
       "<mikeio.Dataset>\n",
       "dims: (time:31)\n",
       "time: 2001-01-01 00:00:00 - 2001-01-31 00:00:00 (31 records)\n",
       "geometry: GeometryUndefined()\n",
       "items:\n",
       "  0:  Precipitation station 2 <Precipitation Rate> (mm per hour) - 3\n",
       "  1:  Precipitation station 5 <Precipitation Rate> (mm per hour) - 3"
      ]
     },
     "execution_count": 33,
     "metadata": {},
     "output_type": "execute_result"
    }
   ],
   "source": [
    "ds = mikeio.read(\"output/precipitation.dfs0\", items=[1,4]) # select item by item number (starting from zero)\n",
    "ds"
   ]
  },
  {
   "cell_type": "code",
   "execution_count": 34,
   "metadata": {},
   "outputs": [
    {
     "data": {
      "text/plain": [
       "<mikeio.Dataset>\n",
       "dims: (time:31)\n",
       "time: 2001-01-01 00:00:00 - 2001-01-31 00:00:00 (31 records)\n",
       "geometry: GeometryUndefined()\n",
       "items:\n",
       "  0:  Precipitation station 5 <Precipitation Rate> (mm per hour) - 3\n",
       "  1:  Precipitation station 1 <Precipitation Rate> (mm per hour) - 3"
      ]
     },
     "execution_count": 34,
     "metadata": {},
     "output_type": "execute_result"
    }
   ],
   "source": [
    "ds = mikeio.read(\"output/precipitation.dfs0\", items=[\"Precipitation station 5\",\"Precipitation station 1\"]) # or by name (in the order you like it)\n",
    "ds"
   ]
  },
  {
   "cell_type": "markdown",
   "metadata": {},
   "source": [
    "### Inline Exercise\n",
    "\n",
    "Read all items to a variable ds. Select \"Precipitation station 3\" - which different ways can you select this item?  "
   ]
  },
  {
   "cell_type": "code",
   "execution_count": 35,
   "metadata": {},
   "outputs": [],
   "source": [
    "# insert your code here"
   ]
  },
  {
   "cell_type": "code",
   "execution_count": 36,
   "metadata": {},
   "outputs": [
    {
     "name": "stdout",
     "output_type": "stream",
     "text": [
      "\n",
      "    System: 3.10.12 | packaged by conda-forge | (main, Jun 23 2023, 22:34:57) [MSC v.1936 64 bit (AMD64)]\n",
      "    NumPy: 1.24.4\n",
      "    Pandas: 2.1.3\n",
      "    MIKE IO: 2.1.0\n",
      "    Last modified: 2024-09-04 15:27:13.530239\n",
      "    \n"
     ]
    }
   ],
   "source": [
    "import utils\n",
    "\n",
    "utils.sysinfo()"
   ]
  },
  {
   "cell_type": "code",
   "execution_count": null,
   "metadata": {},
   "outputs": [],
   "source": []
  }
 ],
 "metadata": {
  "kernelspec": {
   "display_name": "Python 3.10.8 ('base')",
   "language": "python",
   "name": "python3"
  },
  "language_info": {
   "codemirror_mode": {
    "name": "ipython",
    "version": 3
   },
   "file_extension": ".py",
   "mimetype": "text/x-python",
   "name": "python",
   "nbconvert_exporter": "python",
   "pygments_lexer": "ipython3",
   "version": "3.10.12"
  },
  "vscode": {
   "interpreter": {
    "hash": "7aec4f91c09090e98e6ae8203c38529831bb4a3ce54cd1b69639b53cb01a6aa9"
   }
  }
 },
 "nbformat": 4,
 "nbformat_minor": 4
}
