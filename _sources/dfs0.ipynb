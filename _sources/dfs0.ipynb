{
 "metadata": {
  "language_info": {
   "codemirror_mode": {
    "name": "ipython",
    "version": 3
   },
   "file_extension": ".py",
   "mimetype": "text/x-python",
   "name": "python",
   "nbconvert_exporter": "python",
   "pygments_lexer": "ipython3",
   "version": "3.8.5"
  },
  "orig_nbformat": 4,
  "kernelspec": {
   "name": "python3",
   "display_name": "Python 3.8.5 64-bit ('base': conda)"
  },
  "interpreter": {
   "hash": "04089dccd669f5475382045dd9eff7870585234f8cdbd51ae6db76ccd1cd85e5"
  }
 },
 "nbformat": 4,
 "nbformat_minor": 2,
 "cells": [
  {
   "source": [
    "# Dfs0"
   ],
   "cell_type": "markdown",
   "metadata": {}
  },
  {
   "source": [
    "## Reading data"
   ],
   "cell_type": "markdown",
   "metadata": {}
  },
  {
   "cell_type": "code",
   "execution_count": 1,
   "metadata": {},
   "outputs": [
    {
     "output_type": "execute_result",
     "data": {
      "text/plain": [
       "<mikeio.Dfs0>\n",
       "Timeaxis: TimeAxisType.TimeEquidistant\n",
       "Items:\n",
       "  0:  WaterLevel item <Water Level> (meter)\n",
       "  1:  WaterDepth item <Water Depth> (meter)"
      ]
     },
     "metadata": {},
     "execution_count": 1
    }
   ],
   "source": [
    "from mikeio import Dfs0\n",
    "\n",
    "dfs = Dfs0(\"TemporalEqTime.dfs0\")\n",
    "dfs"
   ]
  },
  {
   "cell_type": "code",
   "execution_count": 3,
   "metadata": {},
   "outputs": [
    {
     "output_type": "execute_result",
     "data": {
      "text/plain": [
       "<mikeio.DataSet>\n",
       "Dimensions: (10,)\n",
       "Time: 1970-01-01 00:00:00 - 1970-01-01 00:01:30\n",
       "Items:\n",
       "  0:  WaterLevel item <Water Level> (meter)\n",
       "  1:  WaterDepth item <Water Depth> (meter)"
      ]
     },
     "metadata": {},
     "execution_count": 3
    }
   ],
   "source": [
    "ds = dfs.read()\n",
    "ds"
   ]
  },
  {
   "cell_type": "code",
   "execution_count": 4,
   "metadata": {},
   "outputs": [
    {
     "output_type": "execute_result",
     "data": {
      "text/plain": [
       "mikeio.dataset.Dataset"
      ]
     },
     "metadata": {},
     "execution_count": 4
    }
   ],
   "source": [
    "type(ds)"
   ]
  },
  {
   "cell_type": "code",
   "execution_count": 5,
   "metadata": {},
   "outputs": [
    {
     "output_type": "execute_result",
     "data": {
      "text/plain": [
       "                     WaterLevel item  WaterDepth item\n",
       "1970-01-01 00:00:00              0.0            100.0\n",
       "1970-01-01 00:00:10              1.0            101.0\n",
       "1970-01-01 00:00:20              2.0            102.0\n",
       "1970-01-01 00:00:30              3.0            103.0\n",
       "1970-01-01 00:00:40              4.0            104.0\n",
       "1970-01-01 00:00:50              5.0            105.0\n",
       "1970-01-01 00:01:00             10.0            110.0\n",
       "1970-01-01 00:01:10             11.0            111.0\n",
       "1970-01-01 00:01:20             12.0            112.0\n",
       "1970-01-01 00:01:30             13.0            113.0"
      ],
      "text/html": "<div>\n<style scoped>\n    .dataframe tbody tr th:only-of-type {\n        vertical-align: middle;\n    }\n\n    .dataframe tbody tr th {\n        vertical-align: top;\n    }\n\n    .dataframe thead th {\n        text-align: right;\n    }\n</style>\n<table border=\"1\" class=\"dataframe\">\n  <thead>\n    <tr style=\"text-align: right;\">\n      <th></th>\n      <th>WaterLevel item</th>\n      <th>WaterDepth item</th>\n    </tr>\n  </thead>\n  <tbody>\n    <tr>\n      <th>1970-01-01 00:00:00</th>\n      <td>0.0</td>\n      <td>100.0</td>\n    </tr>\n    <tr>\n      <th>1970-01-01 00:00:10</th>\n      <td>1.0</td>\n      <td>101.0</td>\n    </tr>\n    <tr>\n      <th>1970-01-01 00:00:20</th>\n      <td>2.0</td>\n      <td>102.0</td>\n    </tr>\n    <tr>\n      <th>1970-01-01 00:00:30</th>\n      <td>3.0</td>\n      <td>103.0</td>\n    </tr>\n    <tr>\n      <th>1970-01-01 00:00:40</th>\n      <td>4.0</td>\n      <td>104.0</td>\n    </tr>\n    <tr>\n      <th>1970-01-01 00:00:50</th>\n      <td>5.0</td>\n      <td>105.0</td>\n    </tr>\n    <tr>\n      <th>1970-01-01 00:01:00</th>\n      <td>10.0</td>\n      <td>110.0</td>\n    </tr>\n    <tr>\n      <th>1970-01-01 00:01:10</th>\n      <td>11.0</td>\n      <td>111.0</td>\n    </tr>\n    <tr>\n      <th>1970-01-01 00:01:20</th>\n      <td>12.0</td>\n      <td>112.0</td>\n    </tr>\n    <tr>\n      <th>1970-01-01 00:01:30</th>\n      <td>13.0</td>\n      <td>113.0</td>\n    </tr>\n  </tbody>\n</table>\n</div>"
     },
     "metadata": {},
     "execution_count": 5
    }
   ],
   "source": [
    "df = ds.to_dataframe()\n",
    "df"
   ]
  },
  {
   "cell_type": "code",
   "execution_count": 7,
   "metadata": {},
   "outputs": [
    {
     "output_type": "execute_result",
     "data": {
      "text/plain": [
       "                     WaterLevel item  WaterDepth item\n",
       "1970-01-01 00:00:00              0.0            100.0\n",
       "1970-01-01 00:00:10              1.0            101.0\n",
       "1970-01-01 00:00:20              2.0            102.0\n",
       "1970-01-01 00:00:30              3.0            103.0\n",
       "1970-01-01 00:00:40              4.0            104.0\n",
       "1970-01-01 00:00:50              5.0            105.0\n",
       "1970-01-01 00:01:00             10.0            110.0\n",
       "1970-01-01 00:01:10             11.0            111.0\n",
       "1970-01-01 00:01:20             12.0            112.0\n",
       "1970-01-01 00:01:30             13.0            113.0"
      ],
      "text/html": "<div>\n<style scoped>\n    .dataframe tbody tr th:only-of-type {\n        vertical-align: middle;\n    }\n\n    .dataframe tbody tr th {\n        vertical-align: top;\n    }\n\n    .dataframe thead th {\n        text-align: right;\n    }\n</style>\n<table border=\"1\" class=\"dataframe\">\n  <thead>\n    <tr style=\"text-align: right;\">\n      <th></th>\n      <th>WaterLevel item</th>\n      <th>WaterDepth item</th>\n    </tr>\n  </thead>\n  <tbody>\n    <tr>\n      <th>1970-01-01 00:00:00</th>\n      <td>0.0</td>\n      <td>100.0</td>\n    </tr>\n    <tr>\n      <th>1970-01-01 00:00:10</th>\n      <td>1.0</td>\n      <td>101.0</td>\n    </tr>\n    <tr>\n      <th>1970-01-01 00:00:20</th>\n      <td>2.0</td>\n      <td>102.0</td>\n    </tr>\n    <tr>\n      <th>1970-01-01 00:00:30</th>\n      <td>3.0</td>\n      <td>103.0</td>\n    </tr>\n    <tr>\n      <th>1970-01-01 00:00:40</th>\n      <td>4.0</td>\n      <td>104.0</td>\n    </tr>\n    <tr>\n      <th>1970-01-01 00:00:50</th>\n      <td>5.0</td>\n      <td>105.0</td>\n    </tr>\n    <tr>\n      <th>1970-01-01 00:01:00</th>\n      <td>10.0</td>\n      <td>110.0</td>\n    </tr>\n    <tr>\n      <th>1970-01-01 00:01:10</th>\n      <td>11.0</td>\n      <td>111.0</td>\n    </tr>\n    <tr>\n      <th>1970-01-01 00:01:20</th>\n      <td>12.0</td>\n      <td>112.0</td>\n    </tr>\n    <tr>\n      <th>1970-01-01 00:01:30</th>\n      <td>13.0</td>\n      <td>113.0</td>\n    </tr>\n  </tbody>\n</table>\n</div>"
     },
     "metadata": {},
     "execution_count": 7
    }
   ],
   "source": [
    "df2 = dfs.to_dataframe()\n",
    "df2"
   ]
  },
  {
   "cell_type": "code",
   "execution_count": 9,
   "metadata": {},
   "outputs": [
    {
     "output_type": "execute_result",
     "data": {
      "text/plain": [
       "True"
      ]
     },
     "metadata": {},
     "execution_count": 9
    }
   ],
   "source": [
    "all(df == df2)"
   ]
  },
  {
   "cell_type": "code",
   "execution_count": null,
   "metadata": {},
   "outputs": [],
   "source": []
  }
 ]
}