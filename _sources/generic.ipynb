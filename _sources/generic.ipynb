{
 "cells": [
  {
   "cell_type": "markdown",
   "id": "8d0e89c4-2eed-4bc6-a15d-232c6df8cc07",
   "metadata": {},
   "source": [
    "# Generic dfs processing\n",
    "Tools and methods that applies to any type of dfs files.\n",
    "\n",
    "The generic tools are useful for common data processing tasks, where detailed configuration is not necessary. \n",
    "\n",
    "* mikeio.generic: methods that read any dfs file and outputs a new dfs file of the same type\n",
    "    * concat: Concatenates files along the time axis\n",
    "    * scale: Apply scaling to any dfs file\n",
    "    * sum: Sum two dfs files\n",
    "    * diff: Calculate difference between two dfs files\n",
    "    * extract: Extract timesteps and/or items to a new dfs file"
   ]
  },
  {
   "cell_type": "code",
   "execution_count": null,
   "id": "193d4d46-f0a1-499e-a94f-ae4a53331bcc",
   "metadata": {},
   "outputs": [],
   "source": []
  }
 ],
 "metadata": {
  "kernelspec": {
   "display_name": "Python 3 (ipykernel)",
   "language": "python",
   "name": "python3"
  },
  "language_info": {
   "codemirror_mode": {
    "name": "ipython",
    "version": 3
   },
   "file_extension": ".py",
   "mimetype": "text/x-python",
   "name": "python",
   "nbconvert_exporter": "python",
   "pygments_lexer": "ipython3",
   "version": "3.9.6"
  }
 },
 "nbformat": 4,
 "nbformat_minor": 5
}
