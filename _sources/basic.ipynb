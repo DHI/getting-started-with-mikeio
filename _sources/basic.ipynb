{
 "cells": [
  {
   "cell_type": "markdown",
   "source": [
    "# Basic Python\r\n",
    "\r\n",
    "Python is a high level general purpose programming language. Python is easy to read, understand and learn. \r\n",
    "\r\n",
    "You can run python code in different ways:\r\n",
    "\r\n",
    "* Python interpreter: line-by-line in a terminal, like an advanced calculator\r\n",
    "* IPython intepreter: **I**nteractive Python shell \r\n",
    "* Script: run all your code in a txt-file \r\n",
    "* Jupyter notebook: interactive web-based environment for combining text, code and plots\r\n",
    "\r\n",
    "We will Jupyter notebooks in this course."
   ],
   "metadata": {}
  },
  {
   "cell_type": "markdown",
   "source": [
    "## Jupyter\r\n",
    "\r\n",
    "A cell in jupyter is either \"code\" or \"markdown\". See [markdown cheat sheet](https://www.markdownguide.org/cheat-sheet/) for help on writing markdown text. \r\n",
    "\r\n",
    "You will be navigating Jupyter cells alot so it's important to learn a few [keyboard shortcuts](https://www.dataday.life/notes/jupyter-notebooks/cheat-sheet-jupyter-notebook-keyboard-shortcuts/): \r\n",
    "\r\n",
    "* 'Ctrl'+'Enter': run cell\r\n",
    "* 'Shift'+'Enter': run cell and jump to next\r\n",
    "\r\n",
    "You can exit \"edit mode\" (and enter \"command mode\") by pressing 'Esc', you can now press:\r\n",
    "\r\n",
    "* 'a': insert cell above\r\n",
    "* 'b': insert cell below\r\n",
    "* 'm': change cell to markdown\r\n",
    "* 'y': change cell to code\r\n",
    "* 'd'+'d': delete cell"
   ],
   "metadata": {}
  },
  {
   "cell_type": "markdown",
   "source": [
    "## Variables"
   ],
   "metadata": {}
  },
  {
   "cell_type": "markdown",
   "source": [
    "## Lists"
   ],
   "metadata": {}
  },
  {
   "cell_type": "code",
   "execution_count": null,
   "source": [
    "# A list is created with [..,..]\r\n",
    "myvals = [1.0, 2.0, 1.5]\r\n",
    "myvals"
   ],
   "outputs": [],
   "metadata": {}
  },
  {
   "cell_type": "code",
   "execution_count": null,
   "source": [
    "myvals[0]"
   ],
   "outputs": [],
   "metadata": {}
  },
  {
   "cell_type": "code",
   "execution_count": null,
   "source": [
    "type(myvals)"
   ],
   "outputs": [],
   "metadata": {}
  },
  {
   "cell_type": "code",
   "execution_count": null,
   "source": [
    "# lists can contain all sorts of different variables\r\n",
    "stuff = [5, 3.0, \"MIKE ZERO\", b'a', [1,2]]"
   ],
   "outputs": [],
   "metadata": {}
  },
  {
   "cell_type": "code",
   "execution_count": null,
   "source": [
    "type(stuff[0])"
   ],
   "outputs": [],
   "metadata": {}
  },
  {
   "cell_type": "markdown",
   "source": [
    "## Tuple\r\n",
    "Tuples are similar to lists but immutable (once they are created they cannot be changed)."
   ],
   "metadata": {}
  },
  {
   "cell_type": "code",
   "execution_count": null,
   "source": [
    "my_tuple = (34, 0.2, \"txt\")\r\n",
    "my_tuple"
   ],
   "outputs": [],
   "metadata": {}
  },
  {
   "cell_type": "code",
   "execution_count": null,
   "source": [
    "my_tuple[2]"
   ],
   "outputs": [],
   "metadata": {}
  },
  {
   "cell_type": "code",
   "execution_count": null,
   "source": [
    "my_tuple[2] = 'new_txt'   # this will fail"
   ],
   "outputs": [],
   "metadata": {}
  },
  {
   "cell_type": "markdown",
   "source": [
    "## Dictionary"
   ],
   "metadata": {}
  },
  {
   "cell_type": "code",
   "execution_count": null,
   "source": [
    "fruits = {'banana':4, 'apple':7}\r\n",
    "fruits"
   ],
   "outputs": [],
   "metadata": {}
  },
  {
   "cell_type": "code",
   "execution_count": null,
   "source": [
    "fruits['orange'] = 9\r\n",
    "fruits"
   ],
   "outputs": [],
   "metadata": {}
  },
  {
   "cell_type": "code",
   "execution_count": null,
   "source": [
    "fruits.keys()"
   ],
   "outputs": [],
   "metadata": {}
  },
  {
   "cell_type": "code",
   "execution_count": null,
   "source": [
    "fruits['banana']"
   ],
   "outputs": [],
   "metadata": {}
  },
  {
   "cell_type": "code",
   "execution_count": null,
   "source": [
    "fruits.values()"
   ],
   "outputs": [],
   "metadata": {}
  },
  {
   "cell_type": "code",
   "execution_count": null,
   "source": [
    "fruits.items()"
   ],
   "outputs": [],
   "metadata": {}
  },
  {
   "cell_type": "markdown",
   "source": [
    "## Control structures\r\n",
    "\r\n",
    "Notice the colons and identation! \r\n",
    "\r\n",
    "* [Python conditions](https://www.w3schools.com/python/python_conditions.asp)\r\n",
    "* [Python for loop](https://www.w3schools.com/python/python_for_loops.asp)"
   ],
   "metadata": {}
  },
  {
   "cell_type": "code",
   "execution_count": null,
   "source": [
    "i_am = 'ok'\r\n",
    "if i_am == 'ok':\r\n",
    "    print('You are ok')\r\n",
    "elif i_am == 'great':\r\n",
    "    print('You are great')\r\n",
    "else:\r\n",
    "    print(\"I don't know how you are!\")"
   ],
   "outputs": [],
   "metadata": {}
  },
  {
   "cell_type": "code",
   "execution_count": null,
   "source": [
    "for j in range(3):\r\n",
    "    print(j)"
   ],
   "outputs": [],
   "metadata": {}
  },
  {
   "cell_type": "code",
   "execution_count": null,
   "source": [
    "names = ['Carl','Chan','Clarice']\r\n",
    "for name in names:\r\n",
    "    print(f'Hi {name}!')"
   ],
   "outputs": [],
   "metadata": {}
  },
  {
   "cell_type": "code",
   "execution_count": null,
   "source": [],
   "outputs": [],
   "metadata": {}
  }
 ],
 "metadata": {
  "orig_nbformat": 4,
  "language_info": {
   "name": "python",
   "version": "3.8.10",
   "mimetype": "text/x-python",
   "codemirror_mode": {
    "name": "ipython",
    "version": 3
   },
   "pygments_lexer": "ipython3",
   "nbconvert_exporter": "python",
   "file_extension": ".py"
  },
  "kernelspec": {
   "name": "python3",
   "display_name": "Python 3.8.10 64-bit ('base': conda)"
  },
  "interpreter": {
   "hash": "fa576ebcd40e010bdc0ae86b06ce09151f3424f9e9aed6893ff04f39a9299d89"
  }
 },
 "nbformat": 4,
 "nbformat_minor": 2
}