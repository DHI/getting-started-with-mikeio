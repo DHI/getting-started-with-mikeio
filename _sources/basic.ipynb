{
 "cells": [
  {
   "cell_type": "markdown",
   "source": [
    "# Basic Python\n",
    "\n",
    "Python is a high level general purpose programming language. Python is easy to read, understand and learn. \n",
    "\n",
    "You can run python code in different ways:\n",
    "\n",
    "* Python interpreter: line-by-line in a shell (like an advanced calculator)\n",
    "* IPython intepreter: **I**nteractive Python shell (with syntax highlighting etc)\n",
    "* Script: run all your code in a txt-file \n",
    "* Jupyter notebook: interactive web-based environment for combining text, code and plots\n",
    "\n",
    "We will use Jupyter notebooks in this course."
   ],
   "metadata": {}
  },
  {
   "cell_type": "markdown",
   "source": [
    "## Jupyter\n",
    "\n",
    "A cell in jupyter is either \"code\" or \"markdown\". See [markdown cheat sheet](https://www.markdownguide.org/cheat-sheet/) for help on writing markdown text. \n",
    "\n",
    "You will be navigating Jupyter cells alot so it's important to learn a few [keyboard shortcuts](https://www.dataday.life/notes/jupyter-notebooks/cheat-sheet-jupyter-notebook-keyboard-shortcuts/): \n",
    "\n",
    "* 'Ctrl'+'Enter': run cell\n",
    "* 'Shift'+'Enter': run cell and jump to next\n",
    "\n",
    "You can exit \"edit mode\" (and enter \"command mode\") by pressing 'Esc', you can now press:\n",
    "\n",
    "* 'a': insert cell above\n",
    "* 'b': insert cell below\n",
    "* 'm': change cell to markdown\n",
    "* 'y': change cell to code\n",
    "* 'd'+'d': delete cell"
   ],
   "metadata": {}
  },
  {
   "cell_type": "markdown",
   "source": [
    "### Code completion\n",
    "\n",
    "Jupyter lab can help you complete Python code, if you press \"tab\". If you have your cursor on a function, you can get the function signature by pressing \"shift\"+\"tab\"."
   ],
   "metadata": {}
  },
  {
   "cell_type": "markdown",
   "source": [
    "### Current working directory\n",
    "\n",
    "When reading (or writing) files from the local file system, it is important to know your current path. You you print the current path by the command pwd:"
   ],
   "metadata": {}
  },
  {
   "cell_type": "code",
   "execution_count": null,
   "source": [
    "pwd"
   ],
   "outputs": [],
   "metadata": {}
  },
  {
   "cell_type": "markdown",
   "source": [
    "We recommend that you start jupyter from the \"mini_book\" folder in this course as it will make the relative paths to the data files work. "
   ],
   "metadata": {}
  },
  {
   "cell_type": "markdown",
   "source": [
    "### Windows paths\n",
    "\n",
    "In windows paths, backslash \"\\\\\" is used to separate folders. In Python strings, backslash \"\\\\\" is an escape character. You can write windows paths in Python the following ways:\n",
    "\n",
    "* use \"raw-string\" representation by pre-fixing the string with r, like this: r\"folder\\file.ext\"\n",
    "* use slash \"/\" (as on linux and http), like this: \"folder/file.ext\"\n",
    "* use double backslash, like this: \"folder\\\\\\file.ext\"\n",
    "\n",
    "We recommend using slash \"/\" where possible as it also works on linux."
   ],
   "metadata": {}
  },
  {
   "cell_type": "markdown",
   "source": [
    "## Variables"
   ],
   "metadata": {}
  },
  {
   "cell_type": "code",
   "execution_count": null,
   "source": [
    "var1 = 2.2\r\n",
    "var1"
   ],
   "outputs": [],
   "metadata": {}
  },
  {
   "cell_type": "code",
   "execution_count": null,
   "source": [
    "var2 = var1"
   ],
   "outputs": [],
   "metadata": {}
  },
  {
   "cell_type": "code",
   "execution_count": null,
   "source": [
    "var2 = \"3.3\"    # now changed type\n",
    "var2"
   ],
   "outputs": [],
   "metadata": {}
  },
  {
   "cell_type": "code",
   "execution_count": null,
   "source": [
    "var1     # var1 stays the same, when we change var2 (numeric type)"
   ],
   "outputs": [],
   "metadata": {}
  },
  {
   "cell_type": "code",
   "execution_count": null,
   "source": [
    "type(var1)"
   ],
   "outputs": [],
   "metadata": {}
  },
  {
   "cell_type": "markdown",
   "source": [
    "## Lists"
   ],
   "metadata": {}
  },
  {
   "cell_type": "code",
   "execution_count": null,
   "source": [
    "# A list is created with [..,..]\n",
    "myvals = [1.0, 2.0, 1.5]\n",
    "myvals"
   ],
   "outputs": [],
   "metadata": {}
  },
  {
   "cell_type": "code",
   "execution_count": null,
   "source": [
    "myvals[0]"
   ],
   "outputs": [],
   "metadata": {}
  },
  {
   "cell_type": "code",
   "execution_count": null,
   "source": [
    "myvals2 = myvals     # this is *not* a copy!"
   ],
   "outputs": [],
   "metadata": {}
  },
  {
   "cell_type": "code",
   "execution_count": null,
   "source": [
    "myvals2[1] = 3.3"
   ],
   "outputs": [],
   "metadata": {}
  },
  {
   "cell_type": "code",
   "execution_count": null,
   "source": [
    "myvals     # myvals has also changed! (myvals and myvals2 reference the same object)"
   ],
   "outputs": [],
   "metadata": {}
  },
  {
   "cell_type": "code",
   "execution_count": null,
   "source": [
    "id(myvals) == id(myvals2)     "
   ],
   "outputs": [],
   "metadata": {}
  },
  {
   "cell_type": "code",
   "execution_count": null,
   "source": [
    "# lists can contain all sorts of different variables\n",
    "stuff = [5, 3.0, \"MIKE ZERO\", b'a', [1,2]]"
   ],
   "outputs": [],
   "metadata": {}
  },
  {
   "cell_type": "code",
   "execution_count": null,
   "source": [
    "type(stuff[0])"
   ],
   "outputs": [],
   "metadata": {}
  },
  {
   "cell_type": "markdown",
   "source": [
    "## Tuple\n",
    "Tuples are similar to lists but immutable (once they are created they cannot be changed)."
   ],
   "metadata": {}
  },
  {
   "cell_type": "code",
   "execution_count": null,
   "source": [
    "my_tuple = (34, 0.2, \"txt\")\n",
    "my_tuple"
   ],
   "outputs": [],
   "metadata": {}
  },
  {
   "cell_type": "code",
   "execution_count": null,
   "source": [
    "my_tuple[2]"
   ],
   "outputs": [],
   "metadata": {}
  },
  {
   "cell_type": "code",
   "execution_count": null,
   "source": [
    "my_tuple[2] = 'new_txt'   # this will fail"
   ],
   "outputs": [],
   "metadata": {}
  },
  {
   "cell_type": "markdown",
   "source": [
    "## Dictionary"
   ],
   "metadata": {}
  },
  {
   "cell_type": "code",
   "execution_count": null,
   "source": [
    "fruits = {'banana':4, 'apple':7}\n",
    "fruits"
   ],
   "outputs": [],
   "metadata": {}
  },
  {
   "cell_type": "code",
   "execution_count": null,
   "source": [
    "fruits['orange'] = 9\n",
    "fruits"
   ],
   "outputs": [],
   "metadata": {}
  },
  {
   "cell_type": "code",
   "execution_count": null,
   "source": [
    "fruits.keys()"
   ],
   "outputs": [],
   "metadata": {}
  },
  {
   "cell_type": "code",
   "execution_count": null,
   "source": [
    "fruits['banana']"
   ],
   "outputs": [],
   "metadata": {}
  },
  {
   "cell_type": "code",
   "execution_count": null,
   "source": [
    "fruits.values()"
   ],
   "outputs": [],
   "metadata": {}
  },
  {
   "cell_type": "code",
   "execution_count": null,
   "source": [
    "fruits.items()"
   ],
   "outputs": [],
   "metadata": {}
  },
  {
   "cell_type": "markdown",
   "source": [
    "## Control structures\n",
    "\n",
    "Notice the colons and identation! \n",
    "\n",
    "* [Python conditions](https://www.w3schools.com/python/python_conditions.asp)\n",
    "* [Python for loop](https://www.w3schools.com/python/python_for_loops.asp)"
   ],
   "metadata": {}
  },
  {
   "cell_type": "code",
   "execution_count": null,
   "source": [
    "i_am = 'ok'\n",
    "if i_am == 'ok':\n",
    "    print('You are ok')\n",
    "elif i_am == 'great':\n",
    "    print('You are great')\n",
    "else:\n",
    "    print(\"I don't know how you are!\")"
   ],
   "outputs": [],
   "metadata": {}
  },
  {
   "cell_type": "code",
   "execution_count": null,
   "source": [
    "for j in range(3):\n",
    "    print(j)"
   ],
   "outputs": [],
   "metadata": {}
  },
  {
   "cell_type": "code",
   "execution_count": null,
   "source": [
    "names = ['Carl','Chan','Clarice']\n",
    "for name in names:\n",
    "    print(f'Hi {name}!')"
   ],
   "outputs": [],
   "metadata": {}
  },
  {
   "cell_type": "code",
   "execution_count": null,
   "source": [],
   "outputs": [],
   "metadata": {}
  }
 ],
 "metadata": {
  "orig_nbformat": 4,
  "language_info": {
   "name": "python",
   "version": "3.9.6",
   "mimetype": "text/x-python",
   "codemirror_mode": {
    "name": "ipython",
    "version": 3
   },
   "pygments_lexer": "ipython3",
   "nbconvert_exporter": "python",
   "file_extension": ".py"
  },
  "kernelspec": {
   "name": "python3",
   "display_name": "Python 3.9.6 64-bit"
  },
  "interpreter": {
   "hash": "f4041ee05ab07c15354d6207e763f17a216c3f5ccf08906343c2b4fd3fa7a6fb"
  }
 },
 "nbformat": 4,
 "nbformat_minor": 2
}