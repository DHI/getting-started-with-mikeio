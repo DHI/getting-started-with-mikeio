{
 "cells": [
  {
   "cell_type": "markdown",
   "source": [
    "# Datetimes and timedeltas\n",
    "\n",
    "Python has several ways of representing datetimes and timedelta. This notebook shows the three most common ways and how to convert between them.\n",
    "\n",
    "Our general advice: *use pandas whenever you can*."
   ],
   "metadata": {}
  },
  {
   "cell_type": "code",
   "execution_count": null,
   "source": [
    "from datetime import datetime, timedelta\n",
    "import numpy as np\n",
    "import pandas as pd"
   ],
   "outputs": [],
   "metadata": {}
  },
  {
   "cell_type": "markdown",
   "source": [
    "## Datetime/timestamp\n",
    "\n",
    "The most common datetime representations in Python:\n",
    "\n",
    "* [datetime.datetime](https://docs.python.org/3/library/datetime.html#datetime-objects) (Python build-in)\n",
    "* [pd.Timestamp](https://pandas.pydata.org/pandas-docs/stable/reference/api/pandas.Timestamp.html)\n",
    "* [np.datetime64](https://numpy.org/doc/stable/reference/arrays.datetime.html)\n",
    "\n",
    "For string representations of datetimes use [ISO 8601](https://en.wikipedia.org/wiki/ISO_8601) (e.g. 2021-09-07T19:03:12Z) when possible.\n",
    "\n",
    "See [Python Pandas For Your Grandpa - 4.2 Dates and Times](https://www.youtube.com/watch?v=2VyOsBTWLOI) for a 18-min video introduction to three datetime representations (including time-zone handling)."
   ],
   "metadata": {}
  },
  {
   "cell_type": "markdown",
   "source": [
    "### datetime.datetime\n",
    "\n",
    "The build-in datetime representation is quite simple. "
   ],
   "metadata": {}
  },
  {
   "cell_type": "code",
   "execution_count": null,
   "source": [
    "dt_dt = datetime(2018,1,1,19,3,1)\n",
    "dt_dt"
   ],
   "outputs": [],
   "metadata": {}
  },
  {
   "cell_type": "markdown",
   "source": [
    "### NumPy: np.datetime64\n",
    "\n",
    "np.datetime64 is essentially an integer (np.int64) representing the time since [epoch time](https://en.wikipedia.org/wiki/Unix_time) 1970-01-01 00:00:00 in a specified **unit** e.g. days, seconds or nano-seconds.  "
   ],
   "metadata": {}
  },
  {
   "cell_type": "code",
   "execution_count": null,
   "source": [
    "dt_np = np.datetime64('2018-01-01 19:03:01')  # implicitly [s]\n",
    "dt_np"
   ],
   "outputs": [],
   "metadata": {}
  },
  {
   "cell_type": "code",
   "execution_count": null,
   "source": [
    "np.int64(dt_np)"
   ],
   "outputs": [],
   "metadata": {}
  },
  {
   "cell_type": "code",
   "execution_count": null,
   "source": [
    "np.datetime64('1970-01-01 00:00:00') + np.int64(dt_np)"
   ],
   "outputs": [],
   "metadata": {}
  },
  {
   "cell_type": "code",
   "execution_count": null,
   "source": [
    "dt_np.dtype.name"
   ],
   "outputs": [],
   "metadata": {}
  },
  {
   "cell_type": "code",
   "execution_count": null,
   "source": [
    "dt_np.astype(datetime)   # np.datetime64 -> datetime.datetime"
   ],
   "outputs": [],
   "metadata": {}
  },
  {
   "cell_type": "markdown",
   "source": [
    "### Pandas: pd.Timestamp\n",
    "\n",
    "pd.Timestamp uses np.datetime64[ns] under the hood. Pandas is good at recognizing various string representations of datetimes:"
   ],
   "metadata": {}
  },
  {
   "cell_type": "code",
   "execution_count": null,
   "source": [
    "dt_pd = pd.Timestamp(\"2018/8/1\")    # equivalent to pd.to_datetime()\n",
    "dt_pd"
   ],
   "outputs": [],
   "metadata": {}
  },
  {
   "cell_type": "code",
   "execution_count": null,
   "source": [
    "dt_pd.to_numpy()         # pd.Timestamp -> np.datetime64"
   ],
   "outputs": [],
   "metadata": {}
  },
  {
   "cell_type": "code",
   "execution_count": null,
   "source": [
    "dt_pd.to_pydatetime()    # pd.Timestamp -> datetime.datetime"
   ],
   "outputs": [],
   "metadata": {}
  },
  {
   "cell_type": "code",
   "execution_count": null,
   "source": [
    "pd.Timestamp(dt_np)      # np.datetime64 -> pd.Timestamp"
   ],
   "outputs": [],
   "metadata": {}
  },
  {
   "cell_type": "code",
   "execution_count": null,
   "source": [
    "pd.Timestamp(dt_dt)      # datetime.datetime -> pd.Timestamp"
   ],
   "outputs": [],
   "metadata": {}
  },
  {
   "cell_type": "markdown",
   "source": [
    "## Timedeltas\n",
    "\n",
    "We often need to represent differences between two timestamps. The most common representations are: \n",
    "\n",
    "* [datetime.timedelta](https://docs.python.org/3/library/datetime.html#timedelta-objects)\n",
    "* [pd.Timedelta](https://pandas.pydata.org/docs/reference/api/pandas.Timedelta.html)\n",
    "* [np.timedelta64](https://numpy.org/doc/stable/reference/arrays.datetime.html)\n",
    "\n",
    "Which corresponds to the above three representations of datetimes. "
   ],
   "metadata": {}
  },
  {
   "cell_type": "markdown",
   "source": [
    "### datetime.timedelta\n",
    "\n",
    "The Python build-in way of working with differences between two datetimes."
   ],
   "metadata": {}
  },
  {
   "cell_type": "code",
   "execution_count": null,
   "source": [
    "del_dt = timedelta(days=6)\n",
    "del_dt"
   ],
   "outputs": [],
   "metadata": {}
  },
  {
   "cell_type": "code",
   "execution_count": null,
   "source": [
    "dt_dt + del_dt    # datetime.datetime + datetime.timedelta"
   ],
   "outputs": [],
   "metadata": {}
  },
  {
   "cell_type": "code",
   "execution_count": null,
   "source": [
    "dt_dt2 = datetime(2018,2,3,11,3,1)\n",
    "dt_dt2 - dt_dt    # datetime.datetime - datetime.datetime  "
   ],
   "outputs": [],
   "metadata": {}
  },
  {
   "cell_type": "markdown",
   "source": [
    "### Numpy: np.timedelta64\n",
    "\n",
    "np.timedelta64 is an int64 in a specific unit e.g. seconds or nanoseconds."
   ],
   "metadata": {}
  },
  {
   "cell_type": "code",
   "execution_count": null,
   "source": [
    "dt_np2 = np.datetime64('2018-02-02 16:21:11')\n",
    "del_np = dt_np2 - dt_np     # np.datetime64 - np.datetime64\n",
    "del_np"
   ],
   "outputs": [],
   "metadata": {}
  },
  {
   "cell_type": "code",
   "execution_count": null,
   "source": [
    "dt_np + del_np"
   ],
   "outputs": [],
   "metadata": {}
  },
  {
   "cell_type": "code",
   "execution_count": null,
   "source": [
    "np.int64(del_np), np.dtype(del_np).name"
   ],
   "outputs": [],
   "metadata": {}
  },
  {
   "cell_type": "code",
   "execution_count": null,
   "source": [
    "del_np.astype(timedelta)    # np.timedelta64 -> datetime.timedelta"
   ],
   "outputs": [],
   "metadata": {}
  },
  {
   "cell_type": "markdown",
   "source": [
    "### Pandas: pd.Timedelta"
   ],
   "metadata": {}
  },
  {
   "cell_type": "code",
   "execution_count": null,
   "source": [
    "dt_pd2 = pd.Timestamp(\"2018/8/4 23:01:03\")\n",
    "del_pd = dt_pd2 - dt_pd     # pd.Timedelta - pd.Timedelta\n",
    "del_pd"
   ],
   "outputs": [],
   "metadata": {}
  },
  {
   "cell_type": "code",
   "execution_count": null,
   "source": [
    "dt_pd + del_pd"
   ],
   "outputs": [],
   "metadata": {}
  },
  {
   "cell_type": "code",
   "execution_count": null,
   "source": [
    "del_pd.total_seconds()"
   ],
   "outputs": [],
   "metadata": {}
  },
  {
   "cell_type": "code",
   "execution_count": null,
   "source": [
    "print(pd.Timedelta(del_dt))     # datetime.timedelta -> pd.Timedelta\n",
    "print(pd.Timedelta(del_np))     # np.datetime64 -> pd.Timedelta"
   ],
   "outputs": [],
   "metadata": {}
  },
  {
   "cell_type": "code",
   "execution_count": null,
   "source": [
    "print(del_pd.to_pytimedelta())  # pd.Timedelta -> datetime.timedelta\n",
    "print(del_pd.to_timedelta64())  # pd.Timedelta -> np.timedelta64"
   ],
   "outputs": [],
   "metadata": {}
  },
  {
   "cell_type": "markdown",
   "source": [
    "## Datetime ranges\n",
    "\n",
    "Pandas is very powerful for vectors of datetimes. Use the pd.date_range() method for creating a pd.DatetimeIndex "
   ],
   "metadata": {}
  },
  {
   "cell_type": "code",
   "execution_count": null,
   "source": [
    "dti = pd.date_range('2018', periods=8, freq='5D')\n",
    "dti"
   ],
   "outputs": [],
   "metadata": {}
  },
  {
   "cell_type": "code",
   "execution_count": null,
   "source": [
    "tdi = dti - dti[0]\n",
    "tdi"
   ],
   "outputs": [],
   "metadata": {}
  },
  {
   "cell_type": "code",
   "execution_count": null,
   "source": [
    "tdi.total_seconds().to_numpy()"
   ],
   "outputs": [],
   "metadata": {}
  },
  {
   "cell_type": "markdown",
   "source": [
    "### Slicing with DatetimeIndex"
   ],
   "metadata": {}
  },
  {
   "cell_type": "code",
   "execution_count": null,
   "source": [
    "df = pd.DataFrame(np.ones(8), index=dti, columns=['one'])\n",
    "df"
   ],
   "outputs": [],
   "metadata": {}
  },
  {
   "cell_type": "code",
   "execution_count": null,
   "source": [
    "df.loc[\"2018-01-05\":\"2018-01-21\"]  # notice that end of slice is included!!!"
   ],
   "outputs": [],
   "metadata": {}
  },
  {
   "cell_type": "code",
   "execution_count": null,
   "source": [
    "df.loc[\"2018-01-26\":]"
   ],
   "outputs": [],
   "metadata": {}
  },
  {
   "cell_type": "code",
   "execution_count": null,
   "source": [
    "df.loc[\"2018-02\"]"
   ],
   "outputs": [],
   "metadata": {}
  }
 ],
 "metadata": {
  "orig_nbformat": 4,
  "language_info": {
   "name": "python",
   "version": "3.8.10",
   "mimetype": "text/x-python",
   "codemirror_mode": {
    "name": "ipython",
    "version": 3
   },
   "pygments_lexer": "ipython3",
   "nbconvert_exporter": "python",
   "file_extension": ".py"
  },
  "kernelspec": {
   "name": "python3",
   "display_name": "Python 3.8.10 64-bit ('base': conda)"
  },
  "interpreter": {
   "hash": "fa576ebcd40e010bdc0ae86b06ce09151f3424f9e9aed6893ff04f39a9299d89"
  }
 },
 "nbformat": 4,
 "nbformat_minor": 2
}